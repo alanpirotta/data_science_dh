{
 "cells": [
  {
   "cell_type": "markdown",
   "id": "ae83c8ee",
   "metadata": {},
   "source": [
    "Ejercicio - Automóviles:\n",
    "Escribamos una función que almacene información sobre un automóvil en un diccionario.\n",
    "\n",
    "La función siempre debe recibir un fabricante y un nombre de modelo.\n",
    "\n",
    "Debería aceptar también un número arbitrario de argumentos keyword.\n",
    "\n",
    "Llamemos a la función con la información requerida y otros dos pares de nombre-valor, como un color o una característica opcional.\n",
    "\n",
    "Nuestra función debería funcionar para una llamada como esta:\n",
    "\n",
    "car = make_car ('subaru', 'outback', color = 'blue', tow_package = True)\n",
    "\n",
    "Imprimamos el diccionario que devuelve para asegurarnos de que toda la información esté almacenado correctamente."
   ]
  },
  {
   "cell_type": "code",
   "execution_count": 1,
   "id": "159d81fd",
   "metadata": {},
   "outputs": [],
   "source": [
    "def make_car (fabricante, modelo, **keyword):\n",
    "    keyword['fabricante']=fabricante\n",
    "    keyword['modelo']=modelo\n",
    "    print(f'{keyword}')"
   ]
  },
  {
   "cell_type": "code",
   "execution_count": 2,
   "id": "773c7967",
   "metadata": {},
   "outputs": [
    {
     "name": "stdout",
     "output_type": "stream",
     "text": [
      "{'color': 'blue', 'tow_package': True, 'fabricante': 'subaru', 'modelo': 'outback'}\n"
     ]
    }
   ],
   "source": [
    "make_car ('subaru', 'outback', color = 'blue', tow_package = True)"
   ]
  },
  {
   "cell_type": "markdown",
   "id": "08dd3420",
   "metadata": {},
   "source": [
    "### Ejercicio - Variables globales y locales\n",
    "\n",
    "A partir de las funciones calculo_a y calculo_b:\n",
    "\n",
    "1. Verificar qué valores devuelven con los parámetros de entrada: x=3, y=4.\n",
    "\n",
    "\n",
    "2. Ejecutar el siguiente código. Da error? Por qué? \n",
    "\n",
    "<code>calculo_a(10,20)\n",
    " r\n",
    "</code>\n",
    "\n",
    "**porque r es una variable local de la función**\n",
    "\n",
    "3. Ejecutar el siguiente código. Da error? Por qué? la variable r cambia su valor cuando se llama a la función? Por qué?\n",
    "\n",
    "<code>r = 100\n",
    "a = calculo_a(10,20)\n",
    "a, r\n",
    "</code>\n",
    "\n",
    "**No tira error porque es una variable global, y no se modifica por lo que se hizo localmente**\n",
    "\n",
    "4. Volver a ejecutar el siguiente código. Da error? Por qué?\n",
    "\n",
    "<code>calculo_a(10,20)\n",
    "r\n",
    "</code>\n",
    "\n",
    "**No tira error porque ya la definí como global en el punto anterior**\n",
    "\n",
    "5. Ejecutar el siguiente código. Da error? Porque? Las variables x, y son globales o locales?\n",
    "\n",
    "<code>x = calculo_a(3,4)\n",
    "y = calculo_a(2,5)\n",
    "z = calculo_b(x, y)\n",
    "x , y, z\n",
    "</code>\n",
    "\n",
    "**Hay unas locales (que no estoy viendo directamente acá), y unas globales que son las que me devuelve y muestro en pantalla**"
   ]
  },
  {
   "cell_type": "code",
   "execution_count": 3,
   "id": "bf71428c",
   "metadata": {},
   "outputs": [],
   "source": [
    "def calculo_a(x, y):\n",
    "    z = x * y\n",
    "    if z > 10:\n",
    "        r = z * (x + y)\n",
    "    else:\n",
    "        r = z + (x + y)\n",
    "        \n",
    "    return r"
   ]
  },
  {
   "cell_type": "code",
   "execution_count": 4,
   "id": "180b8d86",
   "metadata": {},
   "outputs": [],
   "source": [
    "def calculo_b(x, y):\n",
    "    z = x * y\n",
    "    if z > 10:\n",
    "        s = z * (x + y)\n",
    "    else:\n",
    "        s = z + (x + y)\n",
    "        \n",
    "    return s"
   ]
  },
  {
   "cell_type": "code",
   "execution_count": 5,
   "id": "1bf837da",
   "metadata": {},
   "outputs": [
    {
     "data": {
      "text/plain": [
       "84"
      ]
     },
     "execution_count": 5,
     "metadata": {},
     "output_type": "execute_result"
    }
   ],
   "source": [
    "calculo_a(3,4)\n"
   ]
  },
  {
   "cell_type": "code",
   "execution_count": 6,
   "id": "a3f8216d",
   "metadata": {},
   "outputs": [
    {
     "data": {
      "text/plain": [
       "(6000, 100)"
      ]
     },
     "execution_count": 6,
     "metadata": {},
     "output_type": "execute_result"
    }
   ],
   "source": [
    "r = 100\n",
    "a = calculo_a(10,20)\n",
    "a, r"
   ]
  },
  {
   "cell_type": "code",
   "execution_count": 7,
   "id": "30a5d3b9",
   "metadata": {},
   "outputs": [
    {
     "data": {
      "text/plain": [
       "100"
      ]
     },
     "execution_count": 7,
     "metadata": {},
     "output_type": "execute_result"
    }
   ],
   "source": [
    "calculo_a(10,20)\n",
    "r"
   ]
  },
  {
   "cell_type": "code",
   "execution_count": 8,
   "id": "7ef93eaa",
   "metadata": {},
   "outputs": [
    {
     "data": {
      "text/plain": [
       "(84, 17, 144228)"
      ]
     },
     "execution_count": 8,
     "metadata": {},
     "output_type": "execute_result"
    }
   ],
   "source": [
    "x = calculo_a(3,4)\n",
    "y = calculo_a(2,5)\n",
    "z = calculo_b(x, y)\n",
    "x , y, z"
   ]
  },
  {
   "cell_type": "markdown",
   "id": "a1878a9d",
   "metadata": {},
   "source": [
    "Prueba de levantar un error e imprimir qué tipo de error se está levantando"
   ]
  },
  {
   "cell_type": "code",
   "execution_count": 9,
   "id": "c642ef68",
   "metadata": {},
   "outputs": [
    {
     "name": "stdout",
     "output_type": "stream",
     "text": [
      "ZeroDivisionError\n"
     ]
    }
   ],
   "source": [
    "try:\n",
    "    a = 0/0\n",
    "except Exception as ex:\n",
    "    print(type(ex).__name__)\n",
    "    exit()"
   ]
  },
  {
   "cell_type": "markdown",
   "id": "41016bc0",
   "metadata": {},
   "source": [
    "### Ejercicio - Imports:\n",
    "Utilizando un programa que hayamos escrito (puede ser automóviles) que tenga una función, almacenemos esa función en un archivo separado. \n",
    "\n",
    "Importemos la función en nuestro archivo de programa principal y llamemos a la función utilizando cada uno de estos enfoques:\n",
    "\n",
    "<code>import module_name\n",
    "from module_name import function_name\n",
    "from module_name import function_name as fn\n",
    "import module_name as mn\n",
    "from module_name import *\n",
    "</code>    "
   ]
  },
  {
   "cell_type": "code",
   "execution_count": 5,
   "id": "efcfe4be",
   "metadata": {},
   "outputs": [],
   "source": [
    "import auto\n",
    "from auto import crear_auto\n",
    "from auto import crear_auto as ca\n",
    "import auto as au\n",
    "from auto import *"
   ]
  },
  {
   "cell_type": "code",
   "execution_count": 2,
   "id": "69e1aded",
   "metadata": {},
   "outputs": [
    {
     "name": "stdout",
     "output_type": "stream",
     "text": [
      "{'color': 'blue', 'tow_package': True, 'fabricante': 'subaru', 'modelo': 'outback'}\n"
     ]
    }
   ],
   "source": [
    "auto.crear_auto ('subaru', 'outback', color = 'blue', tow_package = True)"
   ]
  },
  {
   "cell_type": "code",
   "execution_count": 4,
   "id": "1ab0a601",
   "metadata": {},
   "outputs": [
    {
     "name": "stdout",
     "output_type": "stream",
     "text": [
      "{'color': 'blue', 'tow_package': True, 'fabricante': 'subaru', 'modelo': 'outback'}\n"
     ]
    }
   ],
   "source": [
    "crear_auto ('subaru', 'outback', color = 'blue', tow_package = True)"
   ]
  },
  {
   "cell_type": "code",
   "execution_count": 6,
   "id": "a5696f41",
   "metadata": {},
   "outputs": [
    {
     "name": "stdout",
     "output_type": "stream",
     "text": [
      "{'color': 'blue', 'tow_package': True, 'fabricante': 'subaru', 'modelo': 'outback'}\n"
     ]
    }
   ],
   "source": [
    "ca ('subaru', 'outback', color = 'blue', tow_package = True)"
   ]
  },
  {
   "cell_type": "code",
   "execution_count": 7,
   "id": "865dae75",
   "metadata": {},
   "outputs": [
    {
     "name": "stdout",
     "output_type": "stream",
     "text": [
      "{'color': 'blue', 'tow_package': True, 'fabricante': 'subaru', 'modelo': 'outback'}\n"
     ]
    }
   ],
   "source": [
    "au.crear_auto ('subaru', 'outback', color = 'blue', tow_package = True)"
   ]
  },
  {
   "cell_type": "markdown",
   "id": "646cef1a",
   "metadata": {},
   "source": [
    "### Ejercicio - Exceptions\n",
    "\n",
    "Ejecutemos este código para distintos valore de x (0, 1 y 20) para entender el flujo normal y de excepciones"
   ]
  },
  {
   "cell_type": "code",
   "execution_count": 16,
   "id": "047dce47",
   "metadata": {},
   "outputs": [
    {
     "name": "stdout",
     "output_type": "stream",
     "text": [
      "Before division\n",
      "After division\n",
      "Pass case\n",
      "The [finally clause] is hit\n"
     ]
    }
   ],
   "source": [
    "# x = 10\n",
    "# x = 0\n",
    "# x = 1\n",
    "x = 20\n",
    "try:\n",
    "    print(\"Before division\")\n",
    "    result = 1 / x\n",
    "    print(\"After division\")\n",
    "except:\n",
    "    print(\"Error case\")\n",
    "else:\n",
    "    print(\"Pass case\")\n",
    "finally:\n",
    "    #Finally clause:\n",
    "    print(\"The [finally clause] is hit\")    "
   ]
  },
  {
   "cell_type": "code",
   "execution_count": null,
   "id": "e6d5655b",
   "metadata": {},
   "outputs": [],
   "source": []
  }
 ],
 "metadata": {
  "kernelspec": {
   "display_name": "Python 3 (ipykernel)",
   "language": "python",
   "name": "python3"
  },
  "language_info": {
   "codemirror_mode": {
    "name": "ipython",
    "version": 3
   },
   "file_extension": ".py",
   "mimetype": "text/x-python",
   "name": "python",
   "nbconvert_exporter": "python",
   "pygments_lexer": "ipython3",
   "version": "3.8.12"
  }
 },
 "nbformat": 4,
 "nbformat_minor": 5
}
