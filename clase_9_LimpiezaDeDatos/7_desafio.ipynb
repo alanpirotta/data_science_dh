{
 "cells": [
  {
   "cell_type": "markdown",
   "metadata": {},
   "source": [
    "# Limpieza de datos. Apply. Expresiones regulares."
   ]
  },
  {
   "cell_type": "markdown",
   "metadata": {},
   "source": [
    "La limpieza es un paso necesario en todo proyecto de datos. \n",
    "\n",
    "Podemos resumir el proceso de limpieza de datos en las siguientes cinco tareas:\n",
    "\n",
    "**1. Resolver problemas de formato y asignar tipos de datos correctos.**\n",
    "\n",
    "Por ejemplo, cuando al pasar de CSV a Pandas una fecha no se importa correctamente como puede ser el caso de un campo fecha donde se importa 20090609231247 en lugar de 2009-06-09 23:12:47.\n",
    "\n",
    "El formato en que se encuentran los datos determina qué operaciones pueden realizarse sobre ellos.\n",
    "\n",
    "**2. Estandarizar categorías.**\n",
    "\n",
    "Cuando los datos se recolectaron con un sisstema que no tiene valores tipificadaos, valores que representan la misma categoría pueden estar expresados de forma distinta. Por ejemplo: Arg, AR, Argentina\n",
    "\n",
    "**3. Corregir valores erróneos.**\n",
    "\n",
    "Por ejemplo: un valor numérico o inválido para describir el género; o una edad representada por un número negativo o mucho mayor que 100.\n",
    "\n",
    "**4. Completar datos faltantes.**\n",
    "\n",
    "Los datasets del mundo real suelen venir con datos faltantes que responden a información que se perdió o nunca se recolectó. Existen varias técnicas para completar datos faltantes. Al proceso de completar datos faltantes se lo llama \"imputación\".\n",
    "\n",
    "**5. Organizar el dataset.**\n",
    "\n",
    "Es importante estructurar las filas y columnas de la forma más conveniente. Para hacerlo se pueden aplicar las reglas del \"tidy data\".\n"
   ]
  },
  {
   "cell_type": "markdown",
   "metadata": {},
   "source": [
    "\n",
    "## Dataset\n",
    "\n",
    "El Met (Metropolitan Museum of Art) provee datasets de información de más de 420.000 piezas de arte en su colección.\n",
    "\n",
    "https://github.com/metmuseum/openaccess/\n",
    "\n",
    "Los problemas que presentan este dataset incluyen:\n",
    "* Valores faltantes\n",
    "* Posibles duplicaciones\n",
    "* Campos con mezcla de campos de tipo numérico con cadenas de caracteres\n",
    "\n",
    "En esta clase vamos a detectar algunos de los qué campos presentan problemas, y solucionarlos usando las herramientas que adquirimos en las prácticas guiadas.\n"
   ]
  },
  {
   "cell_type": "markdown",
   "metadata": {},
   "source": [
    "## Ejercicio 1:\n",
    "\n",
    "Vamos a leer en la variable `data` los datos del archivo /M2/CLASE_05_Limpieza_de_datos/Data/MetObjects_sample.csv en un `DataFrame` de pandas con el método `read_csv` \n",
    "\n",
    "Veamos cuántas filas y columnas tiene el DataFrame data"
   ]
  },
  {
   "cell_type": "code",
   "execution_count": 1,
   "metadata": {
    "execution": {
     "iopub.status.idle": "2022-04-24T22:36:33.350494Z",
     "shell.execute_reply": "2022-04-24T22:36:33.349493Z",
     "shell.execute_reply.started": "2022-04-24T22:36:32.720480Z"
    }
   },
   "outputs": [],
   "source": [
    "import pandas as pd\n",
    "import numpy as np\n",
    "import re"
   ]
  },
  {
   "cell_type": "code",
   "execution_count": 2,
   "metadata": {
    "execution": {
     "iopub.execute_input": "2022-04-24T22:36:33.351494Z",
     "iopub.status.busy": "2022-04-24T22:36:33.351494Z",
     "iopub.status.idle": "2022-04-24T22:36:33.446490Z",
     "shell.execute_reply": "2022-04-24T22:36:33.445491Z",
     "shell.execute_reply.started": "2022-04-24T22:36:33.351494Z"
    }
   },
   "outputs": [],
   "source": [
    "df = pd.read_csv('../Data/MetObjects_sample.csv', low_memory=False)"
   ]
  },
  {
   "cell_type": "code",
   "execution_count": 3,
   "metadata": {
    "execution": {
     "iopub.execute_input": "2022-04-24T22:36:33.447491Z",
     "iopub.status.busy": "2022-04-24T22:36:33.447491Z",
     "iopub.status.idle": "2022-04-24T22:36:33.494479Z",
     "shell.execute_reply": "2022-04-24T22:36:33.493474Z",
     "shell.execute_reply.started": "2022-04-24T22:36:33.447491Z"
    }
   },
   "outputs": [
    {
     "data": {
      "text/html": [
       "<div>\n",
       "<style scoped>\n",
       "    .dataframe tbody tr th:only-of-type {\n",
       "        vertical-align: middle;\n",
       "    }\n",
       "\n",
       "    .dataframe tbody tr th {\n",
       "        vertical-align: top;\n",
       "    }\n",
       "\n",
       "    .dataframe thead th {\n",
       "        text-align: right;\n",
       "    }\n",
       "</style>\n",
       "<table border=\"1\" class=\"dataframe\">\n",
       "  <thead>\n",
       "    <tr style=\"text-align: right;\">\n",
       "      <th></th>\n",
       "      <th>Unnamed: 0</th>\n",
       "      <th>Object Number</th>\n",
       "      <th>Is Highlight</th>\n",
       "      <th>Is Public Domain</th>\n",
       "      <th>Is Timeline Work</th>\n",
       "      <th>Object ID</th>\n",
       "      <th>Department</th>\n",
       "      <th>AccessionYear</th>\n",
       "      <th>Object Name</th>\n",
       "      <th>Title</th>\n",
       "      <th>...</th>\n",
       "      <th>Excavation</th>\n",
       "      <th>River</th>\n",
       "      <th>Classification</th>\n",
       "      <th>Rights and Reproduction</th>\n",
       "      <th>Link Resource</th>\n",
       "      <th>Object Wikidata URL</th>\n",
       "      <th>Metadata Date</th>\n",
       "      <th>Repository</th>\n",
       "      <th>Tags</th>\n",
       "      <th>Tags AAT URL</th>\n",
       "    </tr>\n",
       "  </thead>\n",
       "  <tbody>\n",
       "    <tr>\n",
       "      <th>4738</th>\n",
       "      <td>55188</td>\n",
       "      <td>CP288</td>\n",
       "      <td>False</td>\n",
       "      <td>False</td>\n",
       "      <td>False</td>\n",
       "      <td>63654</td>\n",
       "      <td>Asian Art</td>\n",
       "      <td>1941</td>\n",
       "      <td>Print</td>\n",
       "      <td>NaN</td>\n",
       "      <td>...</td>\n",
       "      <td>NaN</td>\n",
       "      <td>NaN</td>\n",
       "      <td>Prints</td>\n",
       "      <td>NaN</td>\n",
       "      <td>http://www.metmuseum.org/art/collection/search...</td>\n",
       "      <td>NaN</td>\n",
       "      <td>NaN</td>\n",
       "      <td>Metropolitan Museum of Art, New York, NY</td>\n",
       "      <td>NaN</td>\n",
       "      <td>NaN</td>\n",
       "    </tr>\n",
       "    <tr>\n",
       "      <th>4739</th>\n",
       "      <td>333892</td>\n",
       "      <td>1979.292.676</td>\n",
       "      <td>False</td>\n",
       "      <td>False</td>\n",
       "      <td>False</td>\n",
       "      <td>496985</td>\n",
       "      <td>Modern and Contemporary Art</td>\n",
       "      <td>1979</td>\n",
       "      <td>Drawing</td>\n",
       "      <td>Untitled (female nude studies)</td>\n",
       "      <td>...</td>\n",
       "      <td>NaN</td>\n",
       "      <td>NaN</td>\n",
       "      <td>Drawings</td>\n",
       "      <td>© 2020 Artists Rights Society (ARS), New York</td>\n",
       "      <td>http://www.metmuseum.org/art/collection/search...</td>\n",
       "      <td>NaN</td>\n",
       "      <td>NaN</td>\n",
       "      <td>Metropolitan Museum of Art, New York, NY</td>\n",
       "      <td>NaN</td>\n",
       "      <td>NaN</td>\n",
       "    </tr>\n",
       "    <tr>\n",
       "      <th>4740</th>\n",
       "      <td>189623</td>\n",
       "      <td>1979.206.698</td>\n",
       "      <td>False</td>\n",
       "      <td>False</td>\n",
       "      <td>True</td>\n",
       "      <td>312885</td>\n",
       "      <td>Arts of Africa, Oceania, and the Americas</td>\n",
       "      <td>1979</td>\n",
       "      <td>Bowl</td>\n",
       "      <td>Bowl</td>\n",
       "      <td>...</td>\n",
       "      <td>NaN</td>\n",
       "      <td>NaN</td>\n",
       "      <td>Ceramics-Containers</td>\n",
       "      <td>NaN</td>\n",
       "      <td>http://www.metmuseum.org/art/collection/search...</td>\n",
       "      <td>NaN</td>\n",
       "      <td>NaN</td>\n",
       "      <td>Metropolitan Museum of Art, New York, NY</td>\n",
       "      <td>NaN</td>\n",
       "      <td>NaN</td>\n",
       "    </tr>\n",
       "    <tr>\n",
       "      <th>4741</th>\n",
       "      <td>213869</td>\n",
       "      <td>53.605.2</td>\n",
       "      <td>False</td>\n",
       "      <td>False</td>\n",
       "      <td>False</td>\n",
       "      <td>345597</td>\n",
       "      <td>Drawings and Prints</td>\n",
       "      <td>1953</td>\n",
       "      <td>Book</td>\n",
       "      <td>Anatomia ex Caspari Bartolini Parentis Institu...</td>\n",
       "      <td>...</td>\n",
       "      <td>NaN</td>\n",
       "      <td>NaN</td>\n",
       "      <td>Books</td>\n",
       "      <td>NaN</td>\n",
       "      <td>http://www.metmuseum.org/art/collection/search...</td>\n",
       "      <td>NaN</td>\n",
       "      <td>NaN</td>\n",
       "      <td>Metropolitan Museum of Art, New York, NY</td>\n",
       "      <td>NaN</td>\n",
       "      <td>NaN</td>\n",
       "    </tr>\n",
       "    <tr>\n",
       "      <th>4742</th>\n",
       "      <td>473188</td>\n",
       "      <td>Burdick 335, V31.4</td>\n",
       "      <td>False</td>\n",
       "      <td>False</td>\n",
       "      <td>False</td>\n",
       "      <td>841114</td>\n",
       "      <td>Drawings and Prints</td>\n",
       "      <td>1963</td>\n",
       "      <td>Print</td>\n",
       "      <td>Roy \"Peewee\" Chantler from Dominion Chocolate ...</td>\n",
       "      <td>...</td>\n",
       "      <td>NaN</td>\n",
       "      <td>NaN</td>\n",
       "      <td>Prints|Ephemera</td>\n",
       "      <td>NaN</td>\n",
       "      <td>http://www.metmuseum.org/art/collection/search...</td>\n",
       "      <td>NaN</td>\n",
       "      <td>NaN</td>\n",
       "      <td>Metropolitan Museum of Art, New York, NY</td>\n",
       "      <td>NaN</td>\n",
       "      <td>NaN</td>\n",
       "    </tr>\n",
       "  </tbody>\n",
       "</table>\n",
       "<p>5 rows × 52 columns</p>\n",
       "</div>"
      ],
      "text/plain": [
       "      Unnamed: 0       Object Number  Is Highlight  Is Public Domain  \\\n",
       "4738       55188               CP288         False             False   \n",
       "4739      333892        1979.292.676         False             False   \n",
       "4740      189623        1979.206.698         False             False   \n",
       "4741      213869            53.605.2         False             False   \n",
       "4742      473188  Burdick 335, V31.4         False             False   \n",
       "\n",
       "      Is Timeline Work  Object ID                                 Department  \\\n",
       "4738             False      63654                                  Asian Art   \n",
       "4739             False     496985                Modern and Contemporary Art   \n",
       "4740              True     312885  Arts of Africa, Oceania, and the Americas   \n",
       "4741             False     345597                        Drawings and Prints   \n",
       "4742             False     841114                        Drawings and Prints   \n",
       "\n",
       "     AccessionYear Object Name  \\\n",
       "4738          1941       Print   \n",
       "4739          1979     Drawing   \n",
       "4740          1979        Bowl   \n",
       "4741          1953        Book   \n",
       "4742          1963       Print   \n",
       "\n",
       "                                                  Title  ... Excavation River  \\\n",
       "4738                                                NaN  ...        NaN   NaN   \n",
       "4739                     Untitled (female nude studies)  ...        NaN   NaN   \n",
       "4740                                               Bowl  ...        NaN   NaN   \n",
       "4741  Anatomia ex Caspari Bartolini Parentis Institu...  ...        NaN   NaN   \n",
       "4742  Roy \"Peewee\" Chantler from Dominion Chocolate ...  ...        NaN   NaN   \n",
       "\n",
       "           Classification                        Rights and Reproduction  \\\n",
       "4738               Prints                                            NaN   \n",
       "4739             Drawings  © 2020 Artists Rights Society (ARS), New York   \n",
       "4740  Ceramics-Containers                                            NaN   \n",
       "4741                Books                                            NaN   \n",
       "4742      Prints|Ephemera                                            NaN   \n",
       "\n",
       "                                          Link Resource Object Wikidata URL  \\\n",
       "4738  http://www.metmuseum.org/art/collection/search...                 NaN   \n",
       "4739  http://www.metmuseum.org/art/collection/search...                 NaN   \n",
       "4740  http://www.metmuseum.org/art/collection/search...                 NaN   \n",
       "4741  http://www.metmuseum.org/art/collection/search...                 NaN   \n",
       "4742  http://www.metmuseum.org/art/collection/search...                 NaN   \n",
       "\n",
       "     Metadata Date                                Repository Tags Tags AAT URL  \n",
       "4738           NaN  Metropolitan Museum of Art, New York, NY  NaN          NaN  \n",
       "4739           NaN  Metropolitan Museum of Art, New York, NY  NaN          NaN  \n",
       "4740           NaN  Metropolitan Museum of Art, New York, NY  NaN          NaN  \n",
       "4741           NaN  Metropolitan Museum of Art, New York, NY  NaN          NaN  \n",
       "4742           NaN  Metropolitan Museum of Art, New York, NY  NaN          NaN  \n",
       "\n",
       "[5 rows x 52 columns]"
      ]
     },
     "execution_count": 3,
     "metadata": {},
     "output_type": "execute_result"
    }
   ],
   "source": [
    "df.tail()"
   ]
  },
  {
   "cell_type": "markdown",
   "metadata": {},
   "source": [
    "## Ejercicio 2: Formato y tipos de datos\n",
    "\n",
    "Vamos a ver de qué tipo de datos es cada columna del DataFrame, y vamos a convertir o dar formato **a alguna de las columnas** que tienen tipo de datos incorrecto.\n",
    "\n",
    "### 2.a Detectar las columnas que tienen tipo de datos incorrecto"
   ]
  },
  {
   "cell_type": "code",
   "execution_count": 4,
   "metadata": {
    "execution": {
     "iopub.execute_input": "2022-04-24T22:36:33.497474Z",
     "iopub.status.busy": "2022-04-24T22:36:33.497474Z",
     "iopub.status.idle": "2022-04-24T22:36:33.510479Z",
     "shell.execute_reply": "2022-04-24T22:36:33.509475Z",
     "shell.execute_reply.started": "2022-04-24T22:36:33.497474Z"
    }
   },
   "outputs": [
    {
     "data": {
      "text/plain": [
       "Unnamed: 0                   int64\n",
       "Object Number               object\n",
       "Is Highlight                  bool\n",
       "Is Public Domain              bool\n",
       "Is Timeline Work              bool\n",
       "Object ID                    int64\n",
       "Department                  object\n",
       "AccessionYear               object\n",
       "Object Name                 object\n",
       "Title                       object\n",
       "Culture                     object\n",
       "Period                      object\n",
       "Dynasty                     object\n",
       "Reign                       object\n",
       "Portfolio                   object\n",
       "Artist Role                 object\n",
       "Artist Prefix               object\n",
       "Artist Display Name         object\n",
       "Artist Display Bio          object\n",
       "Artist Suffix               object\n",
       "Artist Alpha Sort           object\n",
       "Artist Nationality          object\n",
       "Artist Begin Date           object\n",
       "Artist End Date             object\n",
       "Artist Gender               object\n",
       "Artist ULAN URL             object\n",
       "Artist Wikidata URL         object\n",
       "Object Date                 object\n",
       "Object Begin Date            int64\n",
       "Object End Date              int64\n",
       "Medium                      object\n",
       "Dimensions                  object\n",
       "Credit Line                 object\n",
       "Geography Type              object\n",
       "City                        object\n",
       "State                       object\n",
       "County                      object\n",
       "Country                     object\n",
       "Region                      object\n",
       "Subregion                   object\n",
       "Locale                      object\n",
       "Locus                       object\n",
       "Excavation                  object\n",
       "River                       object\n",
       "Classification              object\n",
       "Rights and Reproduction     object\n",
       "Link Resource               object\n",
       "Object Wikidata URL         object\n",
       "Metadata Date              float64\n",
       "Repository                  object\n",
       "Tags                        object\n",
       "Tags AAT URL                object\n",
       "dtype: object"
      ]
     },
     "execution_count": 4,
     "metadata": {},
     "output_type": "execute_result"
    }
   ],
   "source": [
    "df.dtypes"
   ]
  },
  {
   "cell_type": "markdown",
   "metadata": {},
   "source": [
    "### 2.b AccessionYear\n",
    "\n",
    "Analizar la columna AccessionYear que fue leída como object, y debería ser int.\n",
    "\n",
    "¿Qué valores toma ese campo? ¿Cómo se distribuyen esos valores? ¿Hay valores nulos?\n",
    "\n",
    "Queremos extraer el dato año de los valores no numéricos, y crear una nueva columna en el DataFrame de tipo int que se llame AccessionYearClean y tenga estos valores.\n",
    "\n",
    "Para eso vamos a usar expresiones regulares, apply y lambda.\n",
    "\n",
    "Observación: si la columna tiene valores NaN no vamos a poder convertirla al tipo int. Una opción es reemplazar los valores NaN por algún entero antes de convertir (`fillna`). La otra opción es dejar la columna como tipo float (el tipo de NaN es float).\n"
   ]
  },
  {
   "cell_type": "code",
   "execution_count": 5,
   "metadata": {
    "execution": {
     "iopub.execute_input": "2022-04-24T22:36:33.511478Z",
     "iopub.status.busy": "2022-04-24T22:36:33.511478Z",
     "iopub.status.idle": "2022-04-24T22:36:33.527477Z",
     "shell.execute_reply": "2022-04-24T22:36:33.525475Z",
     "shell.execute_reply.started": "2022-04-24T22:36:33.511478Z"
    }
   },
   "outputs": [
    {
     "data": {
      "text/plain": [
       "array([nan, '2005-02-15', '2020-03-23', '1986-12-29', '1992', '1991',\n",
       "       '1975', '1930', '1874', '1915', '1920', '1921', '1916', '1929',\n",
       "       '1907', '1989', '1962', '1917', '1895', '1950', '1896', '1924',\n",
       "       '1951', '1970', '1958', '1938', '2006', '1953', '1891', '1965',\n",
       "       '1966', '2009', '1911', '1947', '1925', '1955', '1914', '1928',\n",
       "       '2012', '1926', '2015', '1879', '1887', '1949', '1902', '1981',\n",
       "       '1979', '1899', '1918', '1906', '1912', '2001', '1985', '1976',\n",
       "       '1946', '1927', '1973', '1941', '1900', '2019', '2013', '1942',\n",
       "       '1968', '1967', '1988', '1986', '1933', '1913', '1909', '1977',\n",
       "       '1922', '1964', '2018', '1936', '1948', '1919', '1954', '1959',\n",
       "       '1931', '1943', '1908', '1945', '1932', '1982', '1939', '1881',\n",
       "       '1956', '2002', '1910', '2008', '1923', '1961', '1937', '2004',\n",
       "       '1971', '1905', '1893', '1898', '1994', '1960', '1957', '1880',\n",
       "       '1984', '2016', '1944', '1969', '1972', '1871', '1987', '2007',\n",
       "       '1980', '2000', '1990', '1892', '1995', '1974', '1978', '1940',\n",
       "       '1983', '1952', '2011', '1889', '1993', '2005', '1996', '1886',\n",
       "       '1963', '2003', '2017', '1997', '1901', '2014', '1883', '2010',\n",
       "       '1935', '1999', '1894', '1934', '1998', '1904', '1897', '1890',\n",
       "       '1873'], dtype=object)"
      ]
     },
     "execution_count": 5,
     "metadata": {},
     "output_type": "execute_result"
    }
   ],
   "source": [
    "df['AccessionYear'].unique()"
   ]
  },
  {
   "cell_type": "code",
   "execution_count": 6,
   "metadata": {
    "execution": {
     "iopub.execute_input": "2022-04-24T22:36:33.532475Z",
     "iopub.status.busy": "2022-04-24T22:36:33.532475Z",
     "iopub.status.idle": "2022-04-24T22:36:33.556476Z",
     "shell.execute_reply": "2022-04-24T22:36:33.555476Z",
     "shell.execute_reply.started": "2022-04-24T22:36:33.532475Z"
    }
   },
   "outputs": [
    {
     "data": {
      "text/plain": [
       "(1000, (4743,))"
      ]
     },
     "execution_count": 6,
     "metadata": {},
     "output_type": "execute_result"
    }
   ],
   "source": [
    "df['AccessionYear'].isna().sum(), df['AccessionYear'].shape"
   ]
  },
  {
   "cell_type": "code",
   "execution_count": 7,
   "metadata": {
    "execution": {
     "iopub.execute_input": "2022-04-24T22:36:33.558475Z",
     "iopub.status.busy": "2022-04-24T22:36:33.557473Z",
     "iopub.status.idle": "2022-04-24T22:36:33.587475Z",
     "shell.execute_reply": "2022-04-24T22:36:33.587475Z",
     "shell.execute_reply.started": "2022-04-24T22:36:33.558475Z"
    }
   },
   "outputs": [
    {
     "name": "stdout",
     "output_type": "stream",
     "text": [
      "Valores nulos luego de extraer el año:  1000\n"
     ]
    }
   ],
   "source": [
    "pattern=\"(?P<year>\\d{4})\"\n",
    "pattern_c = re.compile(pattern)\n",
    "result = df['AccessionYear'].apply(lambda x: x if x is np.NaN else re.match(pattern_c,x))\n",
    "\n",
    "print('Valores nulos luego de extraer el año: ', result.isna().sum()) # Si da 1000, confirma que tomé todos los valores\n",
    "\n",
    "df['AccessionYearClean'] = result\\\n",
    "                                .apply(lambda x: x if x is np.NaN else x.group())\\\n",
    "                                .fillna('-1')\\\n",
    "                                .astype('int')"
   ]
  },
  {
   "cell_type": "code",
   "execution_count": 8,
   "metadata": {
    "execution": {
     "iopub.execute_input": "2022-04-24T22:36:33.589476Z",
     "iopub.status.busy": "2022-04-24T22:36:33.589476Z",
     "iopub.status.idle": "2022-04-24T22:36:33.603477Z",
     "shell.execute_reply": "2022-04-24T22:36:33.602476Z",
     "shell.execute_reply.started": "2022-04-24T22:36:33.589476Z"
    }
   },
   "outputs": [
    {
     "data": {
      "text/plain": [
       "array([  -1, 2005, 2020, 1986, 1992, 1991, 1975, 1930, 1874, 1915, 1920,\n",
       "       1921, 1916, 1929, 1907, 1989, 1962, 1917, 1895, 1950, 1896, 1924,\n",
       "       1951, 1970, 1958, 1938, 2006, 1953, 1891, 1965, 1966, 2009, 1911,\n",
       "       1947, 1925, 1955, 1914, 1928, 2012, 1926, 2015, 1879, 1887, 1949,\n",
       "       1902, 1981, 1979, 1899, 1918, 1906, 1912, 2001, 1985, 1976, 1946,\n",
       "       1927, 1973, 1941, 1900, 2019, 2013, 1942, 1968, 1967, 1988, 1933,\n",
       "       1913, 1909, 1977, 1922, 1964, 2018, 1936, 1948, 1919, 1954, 1959,\n",
       "       1931, 1943, 1908, 1945, 1932, 1982, 1939, 1881, 1956, 2002, 1910,\n",
       "       2008, 1923, 1961, 1937, 2004, 1971, 1905, 1893, 1898, 1994, 1960,\n",
       "       1957, 1880, 1984, 2016, 1944, 1969, 1972, 1871, 1987, 2007, 1980,\n",
       "       2000, 1990, 1892, 1995, 1974, 1978, 1940, 1983, 1952, 2011, 1889,\n",
       "       1993, 1996, 1886, 1963, 2003, 2017, 1997, 1901, 2014, 1883, 2010,\n",
       "       1935, 1999, 1894, 1934, 1998, 1904, 1897, 1890, 1873])"
      ]
     },
     "execution_count": 8,
     "metadata": {},
     "output_type": "execute_result"
    }
   ],
   "source": [
    "df['AccessionYearClean'].unique()"
   ]
  },
  {
   "cell_type": "markdown",
   "metadata": {},
   "source": [
    "## Ejercicio 3: Categorias - Valores erróneos\n",
    "\n",
    "Miremos ahora el campo \"Artist Gender\"\n",
    "\n",
    "¿Qué valores toma ese campo? ¿Cómo se distribuyen esos valores? ¿Hay valores nulos?\n",
    "\n",
    "Queremos definir como categorías válidas Male, Female y Unknown\n",
    "\n",
    "Y crear una nueva columna en el DataFrame que se llame ArtistGenderClean y tenga estos valores.\n",
    "\n",
    "Para eso vamos a usar expresiones regulares, apply y lambda.\n",
    "\n",
    "¿Podemos deducir cómo está representada la categoría Male en el dataset original?\n",
    "\n",
    "Nota: La propuesta que hacemos para limpiar este campo no es del todo correcta, y vamos a ver por qué más adelante. Pero sirve como ejercicio.\n"
   ]
  },
  {
   "cell_type": "code",
   "execution_count": 14,
   "metadata": {
    "execution": {
     "iopub.execute_input": "2022-04-24T22:41:35.836146Z",
     "iopub.status.busy": "2022-04-24T22:41:35.836146Z",
     "iopub.status.idle": "2022-04-24T22:41:35.855929Z",
     "shell.execute_reply": "2022-04-24T22:41:35.854927Z",
     "shell.execute_reply.started": "2022-04-24T22:41:35.836146Z"
    }
   },
   "outputs": [
    {
     "name": "stdout",
     "output_type": "stream",
     "text": [
      "3751\n"
     ]
    },
    {
     "data": {
      "text/plain": [
       "Unknown                     3751\n",
       "|                            583\n",
       "||                           170\n",
       "Female                        81\n",
       "Female|                       43\n",
       "|||                           41\n",
       "|Female                       23\n",
       "||||                          20\n",
       "||||||                         7\n",
       "|||||||                        3\n",
       "Female||                       3\n",
       "|||||                          3\n",
       "Female||Female                 2\n",
       "|Female|                       2\n",
       "|||||||||||                    2\n",
       "||||||||                       1\n",
       "Female|Female                  1\n",
       "|Female|Female|||Female        1\n",
       "|||||||||||||||||              1\n",
       "|Female||                      1\n",
       "|||Female|||||                 1\n",
       "||Female                       1\n",
       "||Female|                      1\n",
       "|||||||||||||||Female|||       1\n",
       "Name: ArtistGenderClean, dtype: int64"
      ]
     },
     "execution_count": 14,
     "metadata": {},
     "output_type": "execute_result"
    }
   ],
   "source": [
    "print(df['Artist Gender'].isna().sum())\n",
    "df['ArtistGenderClean'] = df['Artist Gender'].fillna('Unknown')\n",
    "df['ArtistGenderClean'].value_counts()"
   ]
  },
  {
   "cell_type": "code",
   "execution_count": 10,
   "metadata": {
    "execution": {
     "iopub.execute_input": "2022-04-24T22:37:25.825068Z",
     "iopub.status.busy": "2022-04-24T22:37:25.824068Z",
     "iopub.status.idle": "2022-04-24T22:37:25.837069Z",
     "shell.execute_reply": "2022-04-24T22:37:25.836070Z",
     "shell.execute_reply.started": "2022-04-24T22:37:25.825068Z"
    }
   },
   "outputs": [
    {
     "data": {
      "text/plain": [
       "|                           583\n",
       "||                          170\n",
       "Female                       81\n",
       "Female|                      43\n",
       "|||                          41\n",
       "|Female                      23\n",
       "||||                         20\n",
       "||||||                        7\n",
       "|||||||                       3\n",
       "|||||                         3\n",
       "Female||                      3\n",
       "Female||Female                2\n",
       "|Female|                      2\n",
       "|||||||||||                   2\n",
       "|Female|Female|||Female       1\n",
       "Female|Female                 1\n",
       "||||||||                      1\n",
       "|Female||                     1\n",
       "|||||||||||||||||             1\n",
       "|||Female|||||                1\n",
       "||Female                      1\n",
       "||Female|                     1\n",
       "|||||||||||||||Female|||      1\n",
       "Name: Artist Gender, dtype: int64"
      ]
     },
     "execution_count": 10,
     "metadata": {},
     "output_type": "execute_result"
    }
   ],
   "source": [
    "df['Artist Gender'].value_counts()"
   ]
  },
  {
   "cell_type": "code",
   "execution_count": 25,
   "metadata": {
    "execution": {
     "iopub.execute_input": "2022-04-24T22:56:29.575839Z",
     "iopub.status.busy": "2022-04-24T22:56:29.575839Z",
     "iopub.status.idle": "2022-04-24T22:56:29.586840Z",
     "shell.execute_reply": "2022-04-24T22:56:29.585842Z",
     "shell.execute_reply.started": "2022-04-24T22:56:29.575839Z"
    }
   },
   "outputs": [],
   "source": [
    "pattern_pipe = '\\|+'\n",
    "regex_pipe = re.compile(pattern)\n",
    "df['ArtistGenderClean'] = df['ArtistGenderClean'].apply(lambda x: regex_pipe.sub('',x))"
   ]
  },
  {
   "cell_type": "code",
   "execution_count": 39,
   "metadata": {
    "execution": {
     "iopub.execute_input": "2022-04-24T23:07:27.257188Z",
     "iopub.status.busy": "2022-04-24T23:07:27.257188Z",
     "iopub.status.idle": "2022-04-24T23:07:27.275187Z",
     "shell.execute_reply": "2022-04-24T23:07:27.273187Z",
     "shell.execute_reply.started": "2022-04-24T23:07:27.257188Z"
    }
   },
   "outputs": [],
   "source": [
    "pattern_female = '(Female)+'\n",
    "regex_female = re.compile(pattern_female)\n",
    "df['ArtistGenderClean'] = df['ArtistGenderClean'].apply(lambda x: regex_female.sub('Female',x))"
   ]
  },
  {
   "cell_type": "code",
   "execution_count": 43,
   "metadata": {
    "execution": {
     "iopub.execute_input": "2022-04-24T23:10:13.049386Z",
     "iopub.status.busy": "2022-04-24T23:10:13.048383Z",
     "iopub.status.idle": "2022-04-24T23:10:13.061383Z",
     "shell.execute_reply": "2022-04-24T23:10:13.060385Z",
     "shell.execute_reply.started": "2022-04-24T23:10:13.049386Z"
    }
   },
   "outputs": [],
   "source": [
    "mask_empty = df['ArtistGenderClean'] == ''\n",
    "df.loc[mask_empty,'ArtistGenderClean'] = 'Male'"
   ]
  },
  {
   "cell_type": "code",
   "execution_count": 44,
   "metadata": {
    "execution": {
     "iopub.execute_input": "2022-04-24T23:10:17.502849Z",
     "iopub.status.busy": "2022-04-24T23:10:17.501847Z",
     "iopub.status.idle": "2022-04-24T23:10:17.525848Z",
     "shell.execute_reply": "2022-04-24T23:10:17.524848Z",
     "shell.execute_reply.started": "2022-04-24T23:10:17.502849Z"
    }
   },
   "outputs": [
    {
     "data": {
      "text/plain": [
       "Unknown    3751\n",
       "Male        831\n",
       "Female      161\n",
       "Name: ArtistGenderClean, dtype: int64"
      ]
     },
     "execution_count": 44,
     "metadata": {},
     "output_type": "execute_result"
    }
   ],
   "source": [
    "df['ArtistGenderClean'].value_counts()"
   ]
  },
  {
   "cell_type": "markdown",
   "metadata": {},
   "source": [
    "## Ejercicio 4: Imputación\n",
    "\n",
    "Vamos a analizar ahora los campos \"Object Date\", \"Object Begin Date\", \"Object End Date\"\n",
    "\n",
    "**4.a ¿Cuántos valores nulos hay en \"Object Date\"? ¿Cuántos en \"Object Begin Date\"? ¿Cuántos en \"Object End Date\"?**\n"
   ]
  },
  {
   "cell_type": "code",
   "execution_count": 49,
   "metadata": {
    "execution": {
     "iopub.execute_input": "2022-04-24T23:44:27.415053Z",
     "iopub.status.busy": "2022-04-24T23:44:27.415053Z",
     "iopub.status.idle": "2022-04-24T23:44:27.430034Z",
     "shell.execute_reply": "2022-04-24T23:44:27.429035Z",
     "shell.execute_reply.started": "2022-04-24T23:44:27.415053Z"
    }
   },
   "outputs": [
    {
     "name": "stdout",
     "output_type": "stream",
     "text": [
      "valores nulos en Object Date:  1570\n",
      "valores nulos en Object Begin Date:  0\n",
      "valores nulos en Object End Date:  0\n"
     ]
    }
   ],
   "source": [
    "print('valores nulos en Object Date: ',df['Object Date'].isna().sum())\n",
    "print('valores nulos en Object Begin Date: ',df['Object Begin Date'].isna().sum())\n",
    "print('valores nulos en Object End Date: ',df['Object End Date'].isna().sum())"
   ]
  },
  {
   "cell_type": "markdown",
   "metadata": {},
   "source": [
    "**4.b Usaremos los valores de \"Object Begin Date\" o \"Object End Date\" para imputar los valores de \"Object Date\" con alguno de esos dos campos.**\n",
    "\n",
    "1) Vamos a crear una columna nueva (\"Object Date 4b\") donde copiamos todos los datos de Object Date (para no cambiar los valores originales y nos sirvan para el próximo ejercicio)\n",
    "\n",
    "2) Vamos a rellenar la columna \"Object Date 4b\" con la estrategia que planteamos."
   ]
  },
  {
   "cell_type": "code",
   "execution_count": 51,
   "metadata": {
    "execution": {
     "iopub.execute_input": "2022-04-24T23:48:44.047917Z",
     "iopub.status.busy": "2022-04-24T23:48:44.047917Z",
     "iopub.status.idle": "2022-04-24T23:48:44.067915Z",
     "shell.execute_reply": "2022-04-24T23:48:44.066933Z",
     "shell.execute_reply.started": "2022-04-24T23:48:44.047917Z"
    }
   },
   "outputs": [],
   "source": [
    "# 1)\n",
    "df['Object Date 4b'] = df['Object Date'].copy()"
   ]
  },
  {
   "cell_type": "code",
   "execution_count": 65,
   "metadata": {
    "execution": {
     "iopub.execute_input": "2022-04-24T23:51:59.300119Z",
     "iopub.status.busy": "2022-04-24T23:51:59.300119Z",
     "iopub.status.idle": "2022-04-24T23:51:59.323101Z",
     "shell.execute_reply": "2022-04-24T23:51:59.322098Z",
     "shell.execute_reply.started": "2022-04-24T23:51:59.300119Z"
    }
   },
   "outputs": [
    {
     "data": {
      "text/html": [
       "<div>\n",
       "<style scoped>\n",
       "    .dataframe tbody tr th:only-of-type {\n",
       "        vertical-align: middle;\n",
       "    }\n",
       "\n",
       "    .dataframe tbody tr th {\n",
       "        vertical-align: top;\n",
       "    }\n",
       "\n",
       "    .dataframe thead th {\n",
       "        text-align: right;\n",
       "    }\n",
       "</style>\n",
       "<table border=\"1\" class=\"dataframe\">\n",
       "  <thead>\n",
       "    <tr style=\"text-align: right;\">\n",
       "      <th></th>\n",
       "      <th>Object Date</th>\n",
       "      <th>Object Begin Date</th>\n",
       "      <th>Object End Date</th>\n",
       "    </tr>\n",
       "  </thead>\n",
       "  <tbody>\n",
       "    <tr>\n",
       "      <th>4720</th>\n",
       "      <td>April 1861</td>\n",
       "      <td>1861</td>\n",
       "      <td>1861</td>\n",
       "    </tr>\n",
       "    <tr>\n",
       "      <th>4721</th>\n",
       "      <td>ca. 1925–27</td>\n",
       "      <td>1925</td>\n",
       "      <td>1927</td>\n",
       "    </tr>\n",
       "    <tr>\n",
       "      <th>4722</th>\n",
       "      <td>1888</td>\n",
       "      <td>1888</td>\n",
       "      <td>1888</td>\n",
       "    </tr>\n",
       "    <tr>\n",
       "      <th>4723</th>\n",
       "      <td>ca. 1550</td>\n",
       "      <td>1525</td>\n",
       "      <td>1575</td>\n",
       "    </tr>\n",
       "    <tr>\n",
       "      <th>4724</th>\n",
       "      <td>1880s</td>\n",
       "      <td>1880</td>\n",
       "      <td>1889</td>\n",
       "    </tr>\n",
       "    <tr>\n",
       "      <th>4725</th>\n",
       "      <td>1940s</td>\n",
       "      <td>1940</td>\n",
       "      <td>1949</td>\n",
       "    </tr>\n",
       "    <tr>\n",
       "      <th>4726</th>\n",
       "      <td>late 6th/early 5th centuries B.C.</td>\n",
       "      <td>-700</td>\n",
       "      <td>-300</td>\n",
       "    </tr>\n",
       "    <tr>\n",
       "      <th>4727</th>\n",
       "      <td>1763</td>\n",
       "      <td>1763</td>\n",
       "      <td>1763</td>\n",
       "    </tr>\n",
       "    <tr>\n",
       "      <th>4728</th>\n",
       "      <td>first half 18th century</td>\n",
       "      <td>1700</td>\n",
       "      <td>1750</td>\n",
       "    </tr>\n",
       "    <tr>\n",
       "      <th>4729</th>\n",
       "      <td>1934</td>\n",
       "      <td>1934</td>\n",
       "      <td>1934</td>\n",
       "    </tr>\n",
       "    <tr>\n",
       "      <th>4730</th>\n",
       "      <td>early 13th century</td>\n",
       "      <td>1200</td>\n",
       "      <td>1225</td>\n",
       "    </tr>\n",
       "    <tr>\n",
       "      <th>4731</th>\n",
       "      <td>late 19th–early 20th century</td>\n",
       "      <td>1875</td>\n",
       "      <td>1925</td>\n",
       "    </tr>\n",
       "    <tr>\n",
       "      <th>4732</th>\n",
       "      <td>1905–6</td>\n",
       "      <td>1905</td>\n",
       "      <td>1906</td>\n",
       "    </tr>\n",
       "    <tr>\n",
       "      <th>4733</th>\n",
       "      <td>1900–1907</td>\n",
       "      <td>1900</td>\n",
       "      <td>1907</td>\n",
       "    </tr>\n",
       "    <tr>\n",
       "      <th>4734</th>\n",
       "      <td>1883</td>\n",
       "      <td>1883</td>\n",
       "      <td>1883</td>\n",
       "    </tr>\n",
       "    <tr>\n",
       "      <th>4735</th>\n",
       "      <td>ca. 2124–1504 B.C.</td>\n",
       "      <td>-2124</td>\n",
       "      <td>-2124</td>\n",
       "    </tr>\n",
       "    <tr>\n",
       "      <th>4736</th>\n",
       "      <td>1825–35</td>\n",
       "      <td>1825</td>\n",
       "      <td>1835</td>\n",
       "    </tr>\n",
       "    <tr>\n",
       "      <th>4737</th>\n",
       "      <td>4th–3rd century B.C.</td>\n",
       "      <td>-400</td>\n",
       "      <td>-200</td>\n",
       "    </tr>\n",
       "    <tr>\n",
       "      <th>4738</th>\n",
       "      <td>1782, 2nd edition</td>\n",
       "      <td>1782</td>\n",
       "      <td>1782</td>\n",
       "    </tr>\n",
       "    <tr>\n",
       "      <th>4739</th>\n",
       "      <td>ca. 1938</td>\n",
       "      <td>1933</td>\n",
       "      <td>1943</td>\n",
       "    </tr>\n",
       "    <tr>\n",
       "      <th>4740</th>\n",
       "      <td>3rd century B.C.–A.D. 4th century</td>\n",
       "      <td>-300</td>\n",
       "      <td>400</td>\n",
       "    </tr>\n",
       "    <tr>\n",
       "      <th>4741</th>\n",
       "      <td>1669</td>\n",
       "      <td>1669</td>\n",
       "      <td>1669</td>\n",
       "    </tr>\n",
       "  </tbody>\n",
       "</table>\n",
       "</div>"
      ],
      "text/plain": [
       "                            Object Date  Object Begin Date  Object End Date\n",
       "4720                         April 1861               1861             1861\n",
       "4721                        ca. 1925–27               1925             1927\n",
       "4722                               1888               1888             1888\n",
       "4723                           ca. 1550               1525             1575\n",
       "4724                              1880s               1880             1889\n",
       "4725                              1940s               1940             1949\n",
       "4726  late 6th/early 5th centuries B.C.               -700             -300\n",
       "4727                               1763               1763             1763\n",
       "4728            first half 18th century               1700             1750\n",
       "4729                               1934               1934             1934\n",
       "4730                 early 13th century               1200             1225\n",
       "4731       late 19th–early 20th century               1875             1925\n",
       "4732                             1905–6               1905             1906\n",
       "4733                          1900–1907               1900             1907\n",
       "4734                               1883               1883             1883\n",
       "4735                 ca. 2124–1504 B.C.              -2124            -2124\n",
       "4736                            1825–35               1825             1835\n",
       "4737               4th–3rd century B.C.               -400             -200\n",
       "4738                  1782, 2nd edition               1782             1782\n",
       "4739                           ca. 1938               1933             1943\n",
       "4740  3rd century B.C.–A.D. 4th century               -300              400\n",
       "4741                               1669               1669             1669"
      ]
     },
     "execution_count": 65,
     "metadata": {},
     "output_type": "execute_result"
    }
   ],
   "source": [
    "df.iloc[4720:4742].loc[:,['Object Date','Object Begin Date', 'Object End Date']]"
   ]
  },
  {
   "cell_type": "markdown",
   "metadata": {},
   "source": [
    "No hay un criterio unificado para imputar la columna Object Date, ya que no sigue un patrón coherente. Usa indistintamente el inicio, fin, promedio, rango, siglo, período, etc"
   ]
  },
  {
   "cell_type": "markdown",
   "metadata": {},
   "source": [
    "**4.c Usaremos aleatoriamente los valores de \"Object Begin Date\" o \"Object End Date\" para imputar los valores de \"Object Date\" con alguno de esos dos campos.**\n",
    "\n",
    "Para eso definimos una función get_fill_value que recibe como parámetro una fila da data, y si el valor del campo \"Object Date\" es nulo devuelve aleatoriamente el valor del campo \"Object Begin Date\" u \"Object End Date\" de ese registro.\n",
    "\n",
    "(En este ejercicio practicamos todo!)"
   ]
  },
  {
   "cell_type": "code",
   "execution_count": 181,
   "metadata": {
    "execution": {
     "iopub.execute_input": "2022-04-25T00:39:20.325126Z",
     "iopub.status.busy": "2022-04-25T00:39:20.324127Z",
     "iopub.status.idle": "2022-04-25T00:39:20.343133Z",
     "shell.execute_reply": "2022-04-25T00:39:20.342124Z",
     "shell.execute_reply.started": "2022-04-25T00:39:20.324127Z"
    }
   },
   "outputs": [],
   "source": [
    "def get_fill_value(row):\n",
    "    feature = ['Object Begin Date', 'Object End Date']\n",
    "    if row['Object Date'] is np.nan:\n",
    "        result = row[feature[np.random.randint(2)]]\n",
    "    else:\n",
    "        result = row['Object Date']\n",
    "    return result"
   ]
  },
  {
   "cell_type": "code",
   "execution_count": 203,
   "metadata": {
    "execution": {
     "iopub.execute_input": "2022-04-25T00:41:29.508597Z",
     "iopub.status.busy": "2022-04-25T00:41:29.507594Z",
     "iopub.status.idle": "2022-04-25T00:41:29.604606Z",
     "shell.execute_reply": "2022-04-25T00:41:29.603592Z",
     "shell.execute_reply.started": "2022-04-25T00:41:29.508597Z"
    }
   },
   "outputs": [
    {
     "data": {
      "text/plain": [
       "0"
      ]
     },
     "execution_count": 203,
     "metadata": {},
     "output_type": "execute_result"
    }
   ],
   "source": [
    "df['Object Date 4b'] = df.apply(get_fill_value, axis=1)\n",
    "df['Object Date 4b'].isna().sum()"
   ]
  },
  {
   "cell_type": "markdown",
   "metadata": {},
   "source": [
    "Vamos a contar ahora cuántos registros rellenó con los valores de Object Begin Date y cuántos con Object End Date"
   ]
  },
  {
   "cell_type": "code",
   "execution_count": 224,
   "metadata": {
    "execution": {
     "iopub.execute_input": "2022-04-25T00:55:09.770792Z",
     "iopub.status.busy": "2022-04-25T00:55:09.769791Z",
     "iopub.status.idle": "2022-04-25T00:55:09.798795Z",
     "shell.execute_reply": "2022-04-25T00:55:09.797793Z",
     "shell.execute_reply.started": "2022-04-25T00:55:09.770792Z"
    }
   },
   "outputs": [
    {
     "name": "stdout",
     "output_type": "stream",
     "text": [
      "1570\n",
      "Rellenado con el valor de Begin:\n"
     ]
    },
    {
     "data": {
      "text/plain": [
       "True     850\n",
       "False    720\n",
       "dtype: int64"
      ]
     },
     "execution_count": 224,
     "metadata": {},
     "output_type": "execute_result"
    }
   ],
   "source": [
    "mask_filled = df['Object Date'] != df['Object Date 4b']\n",
    "mask_begin = df[mask_filled]['Object Begin Date'] == df[mask_filled]['Object Date 4b']\n",
    "print(mask_filled.sum())\n",
    "print('Rellenado con el valor de Begin:')\n",
    "mask_begin.value_counts()"
   ]
  },
  {
   "cell_type": "code",
   "execution_count": 221,
   "metadata": {
    "execution": {
     "iopub.execute_input": "2022-04-25T00:53:40.175347Z",
     "iopub.status.busy": "2022-04-25T00:53:40.174346Z",
     "iopub.status.idle": "2022-04-25T00:53:40.191218Z",
     "shell.execute_reply": "2022-04-25T00:53:40.190215Z",
     "shell.execute_reply.started": "2022-04-25T00:53:40.175347Z"
    }
   },
   "outputs": [
    {
     "name": "stdout",
     "output_type": "stream",
     "text": [
      "Con Begin (contando los que son iguales):  850\n",
      "Con End (contando los que son iguales):  877\n"
     ]
    }
   ],
   "source": [
    "# Alternativa para reducir el error cuando son iguales los datos. cuento los de end también.\n",
    "mask_end = df[mask_filled]['Object End Date'] == df[mask_filled]['Object Date 4b']\n",
    "print('Con Begin (contando los que son iguales): ', mask_begin.sum())\n",
    "print('Con End (contando los que son iguales): ', mask_end.sum())"
   ]
  },
  {
   "cell_type": "markdown",
   "metadata": {},
   "source": [
    "## Nota: Organizar el dataset\n",
    "\n",
    "Para llevar a cabo esta tarea necesitamos algunas herramientas que veremos en la segunda parte de Pandas.\n",
    "\n",
    "En esa clase vamos a volver a este ejercicio y resolver este punto.\n",
    "\n",
    "Los campos que vamos a analizar son \"Artist Nationality\" y \"Artist Display Name\""
   ]
  },
  {
   "cell_type": "code",
   "execution_count": 222,
   "metadata": {
    "execution": {
     "iopub.execute_input": "2022-04-25T00:53:52.381471Z",
     "iopub.status.busy": "2022-04-25T00:53:52.381471Z",
     "iopub.status.idle": "2022-04-25T00:53:52.395472Z",
     "shell.execute_reply": "2022-04-25T00:53:52.394489Z",
     "shell.execute_reply.started": "2022-04-25T00:53:52.381471Z"
    }
   },
   "outputs": [
    {
     "data": {
      "text/plain": [
       "American                                                                                     329\n",
       "Austrian                                                                                     153\n",
       "French                                                                                       146\n",
       "Japanese                                                                                      96\n",
       "Italian                                                                                       93\n",
       "                                                                                            ... \n",
       "German|German|British                                                                          1\n",
       "American|American|American|American, born Germany|American, born Canada|American|American      1\n",
       "French|Japanese                                                                                1\n",
       "French, born Russia|French                                                                     1\n",
       "Italian|German|British                                                                         1\n",
       "Name: Artist Nationality, Length: 167, dtype: int64"
      ]
     },
     "execution_count": 222,
     "metadata": {},
     "output_type": "execute_result"
    }
   ],
   "source": [
    "df[\"Artist Nationality\"].value_counts()"
   ]
  },
  {
   "cell_type": "code",
   "execution_count": 223,
   "metadata": {
    "execution": {
     "iopub.execute_input": "2022-04-25T00:53:57.768057Z",
     "iopub.status.busy": "2022-04-25T00:53:57.767050Z",
     "iopub.status.idle": "2022-04-25T00:53:57.781052Z",
     "shell.execute_reply": "2022-04-25T00:53:57.780075Z",
     "shell.execute_reply.started": "2022-04-25T00:53:57.768057Z"
    }
   },
   "outputs": [
    {
     "data": {
      "text/plain": [
       "Walker Evans                                                             35\n",
       "Unknown                                                                  32\n",
       "W. Duke, Sons & Co.                                                      21\n",
       "Kinney Brothers Tobacco Company                                          20\n",
       "Goodwin & Company                                                        19\n",
       "                                                                         ..\n",
       "Yohji Yamamoto                                                            1\n",
       "Maxime Du Camp                                                            1\n",
       "Cheney Brothers|Associated Artists                                        1\n",
       "Bernhardt Christoph Anckerman|Johann Georg Ringlin|Martin Engelbrecht     1\n",
       "Franz Lebisch|Wiener Werkstätte                                           1\n",
       "Name: Artist Display Name, Length: 1595, dtype: int64"
      ]
     },
     "execution_count": 223,
     "metadata": {},
     "output_type": "execute_result"
    }
   ],
   "source": [
    "df[\"Artist Display Name\"].value_counts() "
   ]
  }
 ],
 "metadata": {
  "kernelspec": {
   "display_name": "Python 3 (ipykernel)",
   "language": "python",
   "name": "python3"
  },
  "language_info": {
   "codemirror_mode": {
    "name": "ipython",
    "version": 3
   },
   "file_extension": ".py",
   "mimetype": "text/x-python",
   "name": "python",
   "nbconvert_exporter": "python",
   "pygments_lexer": "ipython3",
   "version": "3.8.12"
  }
 },
 "nbformat": 4,
 "nbformat_minor": 4
}
