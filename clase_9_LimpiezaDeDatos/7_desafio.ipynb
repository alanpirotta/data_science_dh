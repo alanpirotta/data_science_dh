{
 "cells": [
  {
   "cell_type": "markdown",
   "metadata": {},
   "source": [
    "# Limpieza de datos. Apply. Expresiones regulares."
   ]
  },
  {
   "cell_type": "markdown",
   "metadata": {},
   "source": [
    "La limpieza es un paso necesario en todo proyecto de datos. \n",
    "\n",
    "Podemos resumir el proceso de limpieza de datos en las siguientes cinco tareas:\n",
    "\n",
    "**1. Resolver problemas de formato y asignar tipos de datos correctos.**\n",
    "\n",
    "Por ejemplo, cuando al pasar de CSV a Pandas una fecha no se importa correctamente como puede ser el caso de un campo fecha donde se importa 20090609231247 en lugar de 2009-06-09 23:12:47.\n",
    "\n",
    "El formato en que se encuentran los datos determina qué operaciones pueden realizarse sobre ellos.\n",
    "\n",
    "**2. Estandarizar categorías.**\n",
    "\n",
    "Cuando los datos se recolectaron con un sisstema que no tiene valores tipificadaos, valores que representan la misma categoría pueden estar expresados de forma distinta. Por ejemplo: Arg, AR, Argentina\n",
    "\n",
    "**3. Corregir valores erróneos.**\n",
    "\n",
    "Por ejemplo: un valor numérico o inválido para describir el género; o una edad representada por un número negativo o mucho mayor que 100.\n",
    "\n",
    "**4. Completar datos faltantes.**\n",
    "\n",
    "Los datasets del mundo real suelen venir con datos faltantes que responden a información que se perdió o nunca se recolectó. Existen varias técnicas para completar datos faltantes. Al proceso de completar datos faltantes se lo llama \"imputación\".\n",
    "\n",
    "**5. Organizar el dataset.**\n",
    "\n",
    "Es importante estructurar las filas y columnas de la forma más conveniente. Para hacerlo se pueden aplicar las reglas del \"tidy data\".\n"
   ]
  },
  {
   "cell_type": "markdown",
   "metadata": {},
   "source": [
    "\n",
    "## Dataset\n",
    "\n",
    "El Met (Metropolitan Museum of Art) provee datasets de información de más de 420.000 piezas de arte en su colección.\n",
    "\n",
    "https://github.com/metmuseum/openaccess/\n",
    "\n",
    "Los problemas que presentan este dataset incluyen:\n",
    "* Valores faltantes\n",
    "* Posibles duplicaciones\n",
    "* Campos con mezcla de campos de tipo numérico con cadenas de caracteres\n",
    "\n",
    "En esta clase vamos a detectar algunos de los qué campos presentan problemas, y solucionarlos usando las herramientas que adquirimos en las prácticas guiadas.\n"
   ]
  },
  {
   "cell_type": "markdown",
   "metadata": {},
   "source": [
    "## Ejercicio 1:\n",
    "\n",
    "Vamos a leer en la variable `data` los datos del archivo /M2/CLASE_05_Limpieza_de_datos/Data/MetObjects_sample.csv en un `DataFrame` de pandas con el método `read_csv` \n",
    "\n",
    "Veamos cuántas filas y columnas tiene el DataFrame data"
   ]
  },
  {
   "cell_type": "code",
   "execution_count": 12,
   "metadata": {
    "execution": {
     "iopub.execute_input": "2022-04-18T23:09:39.391980Z",
     "iopub.status.busy": "2022-04-18T23:09:39.390981Z",
     "iopub.status.idle": "2022-04-18T23:09:40.698108Z",
     "shell.execute_reply": "2022-04-18T23:09:40.697134Z",
     "shell.execute_reply.started": "2022-04-18T23:09:39.391980Z"
    }
   },
   "outputs": [],
   "source": [
    "import pandas as pd\n",
    "import numpy as np\n",
    "import re"
   ]
  },
  {
   "cell_type": "code",
   "execution_count": 18,
   "metadata": {
    "execution": {
     "iopub.execute_input": "2022-04-18T23:22:37.120812Z",
     "iopub.status.busy": "2022-04-18T23:22:37.120812Z",
     "iopub.status.idle": "2022-04-18T23:22:37.206811Z",
     "shell.execute_reply": "2022-04-18T23:22:37.205819Z",
     "shell.execute_reply.started": "2022-04-18T23:22:37.120812Z"
    }
   },
   "outputs": [],
   "source": [
    "df = pd.read_csv('../Data/MetObjects_sample.csv', low_memory=False)"
   ]
  },
  {
   "cell_type": "code",
   "execution_count": 17,
   "metadata": {
    "execution": {
     "iopub.execute_input": "2022-04-18T23:20:48.128017Z",
     "iopub.status.busy": "2022-04-18T23:20:48.127017Z",
     "iopub.status.idle": "2022-04-18T23:20:48.184012Z",
     "shell.execute_reply": "2022-04-18T23:20:48.183026Z",
     "shell.execute_reply.started": "2022-04-18T23:20:48.128017Z"
    }
   },
   "outputs": [
    {
     "data": {
      "text/html": [
       "<div>\n",
       "<style scoped>\n",
       "    .dataframe tbody tr th:only-of-type {\n",
       "        vertical-align: middle;\n",
       "    }\n",
       "\n",
       "    .dataframe tbody tr th {\n",
       "        vertical-align: top;\n",
       "    }\n",
       "\n",
       "    .dataframe thead th {\n",
       "        text-align: right;\n",
       "    }\n",
       "</style>\n",
       "<table border=\"1\" class=\"dataframe\">\n",
       "  <thead>\n",
       "    <tr style=\"text-align: right;\">\n",
       "      <th></th>\n",
       "      <th>Unnamed: 0</th>\n",
       "      <th>Object Number</th>\n",
       "      <th>Is Highlight</th>\n",
       "      <th>Is Public Domain</th>\n",
       "      <th>Is Timeline Work</th>\n",
       "      <th>Object ID</th>\n",
       "      <th>Department</th>\n",
       "      <th>AccessionYear</th>\n",
       "      <th>Object Name</th>\n",
       "      <th>Title</th>\n",
       "      <th>...</th>\n",
       "      <th>Excavation</th>\n",
       "      <th>River</th>\n",
       "      <th>Classification</th>\n",
       "      <th>Rights and Reproduction</th>\n",
       "      <th>Link Resource</th>\n",
       "      <th>Object Wikidata URL</th>\n",
       "      <th>Metadata Date</th>\n",
       "      <th>Repository</th>\n",
       "      <th>Tags</th>\n",
       "      <th>Tags AAT URL</th>\n",
       "    </tr>\n",
       "  </thead>\n",
       "  <tbody>\n",
       "    <tr>\n",
       "      <th>4738</th>\n",
       "      <td>55188</td>\n",
       "      <td>CP288</td>\n",
       "      <td>False</td>\n",
       "      <td>False</td>\n",
       "      <td>False</td>\n",
       "      <td>63654</td>\n",
       "      <td>Asian Art</td>\n",
       "      <td>1941</td>\n",
       "      <td>Print</td>\n",
       "      <td>NaN</td>\n",
       "      <td>...</td>\n",
       "      <td>NaN</td>\n",
       "      <td>NaN</td>\n",
       "      <td>Prints</td>\n",
       "      <td>NaN</td>\n",
       "      <td>http://www.metmuseum.org/art/collection/search...</td>\n",
       "      <td>NaN</td>\n",
       "      <td>NaN</td>\n",
       "      <td>Metropolitan Museum of Art, New York, NY</td>\n",
       "      <td>NaN</td>\n",
       "      <td>NaN</td>\n",
       "    </tr>\n",
       "    <tr>\n",
       "      <th>4739</th>\n",
       "      <td>333892</td>\n",
       "      <td>1979.292.676</td>\n",
       "      <td>False</td>\n",
       "      <td>False</td>\n",
       "      <td>False</td>\n",
       "      <td>496985</td>\n",
       "      <td>Modern and Contemporary Art</td>\n",
       "      <td>1979</td>\n",
       "      <td>Drawing</td>\n",
       "      <td>Untitled (female nude studies)</td>\n",
       "      <td>...</td>\n",
       "      <td>NaN</td>\n",
       "      <td>NaN</td>\n",
       "      <td>Drawings</td>\n",
       "      <td>© 2020 Artists Rights Society (ARS), New York</td>\n",
       "      <td>http://www.metmuseum.org/art/collection/search...</td>\n",
       "      <td>NaN</td>\n",
       "      <td>NaN</td>\n",
       "      <td>Metropolitan Museum of Art, New York, NY</td>\n",
       "      <td>NaN</td>\n",
       "      <td>NaN</td>\n",
       "    </tr>\n",
       "    <tr>\n",
       "      <th>4740</th>\n",
       "      <td>189623</td>\n",
       "      <td>1979.206.698</td>\n",
       "      <td>False</td>\n",
       "      <td>False</td>\n",
       "      <td>True</td>\n",
       "      <td>312885</td>\n",
       "      <td>Arts of Africa, Oceania, and the Americas</td>\n",
       "      <td>1979</td>\n",
       "      <td>Bowl</td>\n",
       "      <td>Bowl</td>\n",
       "      <td>...</td>\n",
       "      <td>NaN</td>\n",
       "      <td>NaN</td>\n",
       "      <td>Ceramics-Containers</td>\n",
       "      <td>NaN</td>\n",
       "      <td>http://www.metmuseum.org/art/collection/search...</td>\n",
       "      <td>NaN</td>\n",
       "      <td>NaN</td>\n",
       "      <td>Metropolitan Museum of Art, New York, NY</td>\n",
       "      <td>NaN</td>\n",
       "      <td>NaN</td>\n",
       "    </tr>\n",
       "    <tr>\n",
       "      <th>4741</th>\n",
       "      <td>213869</td>\n",
       "      <td>53.605.2</td>\n",
       "      <td>False</td>\n",
       "      <td>False</td>\n",
       "      <td>False</td>\n",
       "      <td>345597</td>\n",
       "      <td>Drawings and Prints</td>\n",
       "      <td>1953</td>\n",
       "      <td>Book</td>\n",
       "      <td>Anatomia ex Caspari Bartolini Parentis Institu...</td>\n",
       "      <td>...</td>\n",
       "      <td>NaN</td>\n",
       "      <td>NaN</td>\n",
       "      <td>Books</td>\n",
       "      <td>NaN</td>\n",
       "      <td>http://www.metmuseum.org/art/collection/search...</td>\n",
       "      <td>NaN</td>\n",
       "      <td>NaN</td>\n",
       "      <td>Metropolitan Museum of Art, New York, NY</td>\n",
       "      <td>NaN</td>\n",
       "      <td>NaN</td>\n",
       "    </tr>\n",
       "    <tr>\n",
       "      <th>4742</th>\n",
       "      <td>473188</td>\n",
       "      <td>Burdick 335, V31.4</td>\n",
       "      <td>False</td>\n",
       "      <td>False</td>\n",
       "      <td>False</td>\n",
       "      <td>841114</td>\n",
       "      <td>Drawings and Prints</td>\n",
       "      <td>1963</td>\n",
       "      <td>Print</td>\n",
       "      <td>Roy \"Peewee\" Chantler from Dominion Chocolate ...</td>\n",
       "      <td>...</td>\n",
       "      <td>NaN</td>\n",
       "      <td>NaN</td>\n",
       "      <td>Prints|Ephemera</td>\n",
       "      <td>NaN</td>\n",
       "      <td>http://www.metmuseum.org/art/collection/search...</td>\n",
       "      <td>NaN</td>\n",
       "      <td>NaN</td>\n",
       "      <td>Metropolitan Museum of Art, New York, NY</td>\n",
       "      <td>NaN</td>\n",
       "      <td>NaN</td>\n",
       "    </tr>\n",
       "  </tbody>\n",
       "</table>\n",
       "<p>5 rows × 52 columns</p>\n",
       "</div>"
      ],
      "text/plain": [
       "      Unnamed: 0       Object Number  Is Highlight  Is Public Domain  \\\n",
       "4738       55188               CP288         False             False   \n",
       "4739      333892        1979.292.676         False             False   \n",
       "4740      189623        1979.206.698         False             False   \n",
       "4741      213869            53.605.2         False             False   \n",
       "4742      473188  Burdick 335, V31.4         False             False   \n",
       "\n",
       "      Is Timeline Work  Object ID                                 Department  \\\n",
       "4738             False      63654                                  Asian Art   \n",
       "4739             False     496985                Modern and Contemporary Art   \n",
       "4740              True     312885  Arts of Africa, Oceania, and the Americas   \n",
       "4741             False     345597                        Drawings and Prints   \n",
       "4742             False     841114                        Drawings and Prints   \n",
       "\n",
       "     AccessionYear Object Name  \\\n",
       "4738          1941       Print   \n",
       "4739          1979     Drawing   \n",
       "4740          1979        Bowl   \n",
       "4741          1953        Book   \n",
       "4742          1963       Print   \n",
       "\n",
       "                                                  Title  ... Excavation River  \\\n",
       "4738                                                NaN  ...        NaN   NaN   \n",
       "4739                     Untitled (female nude studies)  ...        NaN   NaN   \n",
       "4740                                               Bowl  ...        NaN   NaN   \n",
       "4741  Anatomia ex Caspari Bartolini Parentis Institu...  ...        NaN   NaN   \n",
       "4742  Roy \"Peewee\" Chantler from Dominion Chocolate ...  ...        NaN   NaN   \n",
       "\n",
       "           Classification                        Rights and Reproduction  \\\n",
       "4738               Prints                                            NaN   \n",
       "4739             Drawings  © 2020 Artists Rights Society (ARS), New York   \n",
       "4740  Ceramics-Containers                                            NaN   \n",
       "4741                Books                                            NaN   \n",
       "4742      Prints|Ephemera                                            NaN   \n",
       "\n",
       "                                          Link Resource Object Wikidata URL  \\\n",
       "4738  http://www.metmuseum.org/art/collection/search...                 NaN   \n",
       "4739  http://www.metmuseum.org/art/collection/search...                 NaN   \n",
       "4740  http://www.metmuseum.org/art/collection/search...                 NaN   \n",
       "4741  http://www.metmuseum.org/art/collection/search...                 NaN   \n",
       "4742  http://www.metmuseum.org/art/collection/search...                 NaN   \n",
       "\n",
       "     Metadata Date                                Repository Tags Tags AAT URL  \n",
       "4738           NaN  Metropolitan Museum of Art, New York, NY  NaN          NaN  \n",
       "4739           NaN  Metropolitan Museum of Art, New York, NY  NaN          NaN  \n",
       "4740           NaN  Metropolitan Museum of Art, New York, NY  NaN          NaN  \n",
       "4741           NaN  Metropolitan Museum of Art, New York, NY  NaN          NaN  \n",
       "4742           NaN  Metropolitan Museum of Art, New York, NY  NaN          NaN  \n",
       "\n",
       "[5 rows x 52 columns]"
      ]
     },
     "execution_count": 17,
     "metadata": {},
     "output_type": "execute_result"
    }
   ],
   "source": [
    "df.tail()"
   ]
  },
  {
   "cell_type": "markdown",
   "metadata": {},
   "source": [
    "## Ejercicio 2: Formato y tipos de datos\n",
    "\n",
    "Vamos a ver de qué tipo de datos es cada columna del DataFrame, y vamos a convertir o dar formato **a alguna de las columnas** que tienen tipo de datos incorrecto.\n",
    "\n",
    "### 2.a Detectar las columnas que tienen tipo de datos incorrecto"
   ]
  },
  {
   "cell_type": "code",
   "execution_count": 19,
   "metadata": {
    "execution": {
     "iopub.execute_input": "2022-04-18T23:22:44.937540Z",
     "iopub.status.busy": "2022-04-18T23:22:44.936544Z",
     "iopub.status.idle": "2022-04-18T23:22:44.960544Z",
     "shell.execute_reply": "2022-04-18T23:22:44.959542Z",
     "shell.execute_reply.started": "2022-04-18T23:22:44.937540Z"
    }
   },
   "outputs": [
    {
     "data": {
      "text/plain": [
       "Unnamed: 0                   int64\n",
       "Object Number               object\n",
       "Is Highlight                  bool\n",
       "Is Public Domain              bool\n",
       "Is Timeline Work              bool\n",
       "Object ID                    int64\n",
       "Department                  object\n",
       "AccessionYear               object\n",
       "Object Name                 object\n",
       "Title                       object\n",
       "Culture                     object\n",
       "Period                      object\n",
       "Dynasty                     object\n",
       "Reign                       object\n",
       "Portfolio                   object\n",
       "Artist Role                 object\n",
       "Artist Prefix               object\n",
       "Artist Display Name         object\n",
       "Artist Display Bio          object\n",
       "Artist Suffix               object\n",
       "Artist Alpha Sort           object\n",
       "Artist Nationality          object\n",
       "Artist Begin Date           object\n",
       "Artist End Date             object\n",
       "Artist Gender               object\n",
       "Artist ULAN URL             object\n",
       "Artist Wikidata URL         object\n",
       "Object Date                 object\n",
       "Object Begin Date            int64\n",
       "Object End Date              int64\n",
       "Medium                      object\n",
       "Dimensions                  object\n",
       "Credit Line                 object\n",
       "Geography Type              object\n",
       "City                        object\n",
       "State                       object\n",
       "County                      object\n",
       "Country                     object\n",
       "Region                      object\n",
       "Subregion                   object\n",
       "Locale                      object\n",
       "Locus                       object\n",
       "Excavation                  object\n",
       "River                       object\n",
       "Classification              object\n",
       "Rights and Reproduction     object\n",
       "Link Resource               object\n",
       "Object Wikidata URL         object\n",
       "Metadata Date              float64\n",
       "Repository                  object\n",
       "Tags                        object\n",
       "Tags AAT URL                object\n",
       "dtype: object"
      ]
     },
     "execution_count": 19,
     "metadata": {},
     "output_type": "execute_result"
    }
   ],
   "source": [
    "df.dtypes"
   ]
  },
  {
   "cell_type": "markdown",
   "metadata": {},
   "source": [
    "### 2.b AccessionYear\n",
    "\n",
    "Analizar la columna AccessionYear que fue leída como object, y debería ser int.\n",
    "\n",
    "¿Qué valores toma ese campo? ¿Cómo se distribuyen esos valores? ¿Hay valores nulos?\n",
    "\n",
    "Queremos extraer el dato año de los valores no numéricos, y crear una nueva columna en el DataFrame de tipo int que se llame AccessionYearClean y tenga estos valores.\n",
    "\n",
    "Para eso vamos a usar expresiones regulares, apply y lambda.\n",
    "\n",
    "Observación: si la columna tiene valores NaN no vamos a poder convertirla al tipo int. Una opción es reemplazar los valores NaN por algún entero antes de convertir (`fillna`). La otra opción es dejar la columna como tipo float (el tipo de NaN es float).\n"
   ]
  },
  {
   "cell_type": "code",
   "execution_count": 25,
   "metadata": {
    "execution": {
     "iopub.execute_input": "2022-04-18T23:50:03.960780Z",
     "iopub.status.busy": "2022-04-18T23:50:03.960780Z",
     "iopub.status.idle": "2022-04-18T23:50:03.979782Z",
     "shell.execute_reply": "2022-04-18T23:50:03.978781Z",
     "shell.execute_reply.started": "2022-04-18T23:50:03.960780Z"
    }
   },
   "outputs": [
    {
     "data": {
      "text/plain": [
       "array([nan, '2005-02-15', '2020-03-23', '1986-12-29', '1992', '1991',\n",
       "       '1975', '1930', '1874', '1915', '1920', '1921', '1916', '1929',\n",
       "       '1907', '1989', '1962', '1917', '1895', '1950', '1896', '1924',\n",
       "       '1951', '1970', '1958', '1938', '2006', '1953', '1891', '1965',\n",
       "       '1966', '2009', '1911', '1947', '1925', '1955', '1914', '1928',\n",
       "       '2012', '1926', '2015', '1879', '1887', '1949', '1902', '1981',\n",
       "       '1979', '1899', '1918', '1906', '1912', '2001', '1985', '1976',\n",
       "       '1946', '1927', '1973', '1941', '1900', '2019', '2013', '1942',\n",
       "       '1968', '1967', '1988', '1986', '1933', '1913', '1909', '1977',\n",
       "       '1922', '1964', '2018', '1936', '1948', '1919', '1954', '1959',\n",
       "       '1931', '1943', '1908', '1945', '1932', '1982', '1939', '1881',\n",
       "       '1956', '2002', '1910', '2008', '1923', '1961', '1937', '2004',\n",
       "       '1971', '1905', '1893', '1898', '1994', '1960', '1957', '1880',\n",
       "       '1984', '2016', '1944', '1969', '1972', '1871', '1987', '2007',\n",
       "       '1980', '2000', '1990', '1892', '1995', '1974', '1978', '1940',\n",
       "       '1983', '1952', '2011', '1889', '1993', '2005', '1996', '1886',\n",
       "       '1963', '2003', '2017', '1997', '1901', '2014', '1883', '2010',\n",
       "       '1935', '1999', '1894', '1934', '1998', '1904', '1897', '1890',\n",
       "       '1873'], dtype=object)"
      ]
     },
     "execution_count": 25,
     "metadata": {},
     "output_type": "execute_result"
    }
   ],
   "source": [
    "df['AccessionYear'].unique()"
   ]
  },
  {
   "cell_type": "code",
   "execution_count": 78,
   "metadata": {
    "execution": {
     "iopub.execute_input": "2022-04-19T00:46:01.791856Z",
     "iopub.status.busy": "2022-04-19T00:46:01.791856Z",
     "iopub.status.idle": "2022-04-19T00:46:01.811861Z",
     "shell.execute_reply": "2022-04-19T00:46:01.810855Z",
     "shell.execute_reply.started": "2022-04-19T00:46:01.791856Z"
    }
   },
   "outputs": [
    {
     "data": {
      "text/plain": [
       "(1000, (4743,))"
      ]
     },
     "execution_count": 78,
     "metadata": {},
     "output_type": "execute_result"
    }
   ],
   "source": [
    "df['AccessionYear'].isna().sum(), df['AccessionYear'].shape"
   ]
  },
  {
   "cell_type": "code",
   "execution_count": 93,
   "metadata": {
    "execution": {
     "iopub.execute_input": "2022-04-19T00:49:17.121609Z",
     "iopub.status.busy": "2022-04-19T00:49:17.120621Z",
     "iopub.status.idle": "2022-04-19T00:49:17.157610Z",
     "shell.execute_reply": "2022-04-19T00:49:17.156607Z",
     "shell.execute_reply.started": "2022-04-19T00:49:17.121609Z"
    }
   },
   "outputs": [
    {
     "name": "stdout",
     "output_type": "stream",
     "text": [
      "Valores nulos luego de extraer el año:  1000\n"
     ]
    }
   ],
   "source": [
    "pattern=\"(?P<year>\\d{4})\"\n",
    "pattern_c = re.compile(pattern)\n",
    "result = df['AccessionYear'].apply(lambda x: x if x is np.NaN else re.match(pattern_c,x))\n",
    "\n",
    "print('Valores nulos luego de extraer el año: ', result.isna().sum()) # Si da 1000, confirma que tomé todos los valores\n",
    "\n",
    "df['AccessionYearClean'] = result\\\n",
    "                                .apply(lambda x: x if x is np.NaN else x.group())\\\n",
    "                                .fillna('-1')\\\n",
    "                                .astype('int')"
   ]
  },
  {
   "cell_type": "code",
   "execution_count": 94,
   "metadata": {
    "execution": {
     "iopub.execute_input": "2022-04-19T00:49:19.578996Z",
     "iopub.status.busy": "2022-04-19T00:49:19.578996Z",
     "iopub.status.idle": "2022-04-19T00:49:19.596982Z",
     "shell.execute_reply": "2022-04-19T00:49:19.595983Z",
     "shell.execute_reply.started": "2022-04-19T00:49:19.578996Z"
    }
   },
   "outputs": [
    {
     "data": {
      "text/plain": [
       "array([  -1, 2005, 2020, 1986, 1992, 1991, 1975, 1930, 1874, 1915, 1920,\n",
       "       1921, 1916, 1929, 1907, 1989, 1962, 1917, 1895, 1950, 1896, 1924,\n",
       "       1951, 1970, 1958, 1938, 2006, 1953, 1891, 1965, 1966, 2009, 1911,\n",
       "       1947, 1925, 1955, 1914, 1928, 2012, 1926, 2015, 1879, 1887, 1949,\n",
       "       1902, 1981, 1979, 1899, 1918, 1906, 1912, 2001, 1985, 1976, 1946,\n",
       "       1927, 1973, 1941, 1900, 2019, 2013, 1942, 1968, 1967, 1988, 1933,\n",
       "       1913, 1909, 1977, 1922, 1964, 2018, 1936, 1948, 1919, 1954, 1959,\n",
       "       1931, 1943, 1908, 1945, 1932, 1982, 1939, 1881, 1956, 2002, 1910,\n",
       "       2008, 1923, 1961, 1937, 2004, 1971, 1905, 1893, 1898, 1994, 1960,\n",
       "       1957, 1880, 1984, 2016, 1944, 1969, 1972, 1871, 1987, 2007, 1980,\n",
       "       2000, 1990, 1892, 1995, 1974, 1978, 1940, 1983, 1952, 2011, 1889,\n",
       "       1993, 1996, 1886, 1963, 2003, 2017, 1997, 1901, 2014, 1883, 2010,\n",
       "       1935, 1999, 1894, 1934, 1998, 1904, 1897, 1890, 1873])"
      ]
     },
     "execution_count": 94,
     "metadata": {},
     "output_type": "execute_result"
    }
   ],
   "source": [
    "df['AccessionYearClean'].unique()"
   ]
  },
  {
   "cell_type": "markdown",
   "metadata": {},
   "source": [
    "## Ejercicio 3: Categorias - Valores erróneos\n",
    "\n",
    "Miremos ahora el campo \"Artist Gender\"\n",
    "\n",
    "¿Qué valores toma ese campo? ¿Cómo se distribuyen esos valores? ¿Hay valores nulos?\n",
    "\n",
    "Queremos definir como categorías válidas Male, Female y Unknown\n",
    "\n",
    "Y crear una nueva columna en el DataFrame que se llame ArtistGenderClean y tenga estos valores.\n",
    "\n",
    "Para eso vamos a usar expresiones regulares, apply y lambda.\n",
    "\n",
    "¿Podemos deducir cómo está representada la categoría Male en el dataset original?\n",
    "\n",
    "Nota: La propuesta que hacemos para limpiar este campo no es del todo correcta, y vamos a ver por qué más adelante. Pero sirve como ejercicio.\n"
   ]
  },
  {
   "cell_type": "code",
   "execution_count": null,
   "metadata": {},
   "outputs": [],
   "source": []
  },
  {
   "cell_type": "markdown",
   "metadata": {},
   "source": [
    "## Ejercicio 4: Imputación\n",
    "\n",
    "Vamos a analizar ahora los campos \"Object Date\", \"Object Begin Date\", \"Object End Date\"\n",
    "\n",
    "**4.a ¿Cuántos valores nulos hay en \"Object Date\"? ¿Cuántos en \"Object Begin Date\"? ¿Cuántos en \"Object End Date\"?**\n"
   ]
  },
  {
   "cell_type": "code",
   "execution_count": null,
   "metadata": {},
   "outputs": [],
   "source": []
  },
  {
   "cell_type": "markdown",
   "metadata": {},
   "source": [
    "**4.b Usaremos los valores de \"Object Begin Date\" o \"Object End Date\" para imputar los valores de \"Object Date\" con alguno de esos dos campos.**\n",
    "\n",
    "1) Vamos a crear una columna nueva (\"Object Date 4b\") donde copiamos todos los datos de Object Date (para no cambiar los valores originales y nos sirvan para el próximo ejercicio)\n",
    "\n",
    "2) Vamos a rellenar la columna \"Object Date 4b\" con la estrategia que planteamos."
   ]
  },
  {
   "cell_type": "code",
   "execution_count": null,
   "metadata": {},
   "outputs": [],
   "source": []
  },
  {
   "cell_type": "markdown",
   "metadata": {},
   "source": [
    "**4.c Usaremos aleatoriamente los valores de \"Object Begin Date\" o \"Object End Date\" para imputar los valores de \"Object Date\" con alguno de esos dos campos.**\n",
    "\n",
    "Para eso definimos una función get_fill_value que recibe como parámetro una fila da data, y si el valor del campo \"Object Date\" es nulo devuelve aleatoriamente el valor del campo \"Object Begin Date\" u \"Object End Date\" de ese registro.\n",
    "\n",
    "(En este ejercicio practicamos todo!)"
   ]
  },
  {
   "cell_type": "code",
   "execution_count": null,
   "metadata": {},
   "outputs": [],
   "source": []
  },
  {
   "cell_type": "markdown",
   "metadata": {},
   "source": [
    "Vamos a contar ahora cuántos registros rellenó con los valores de Object Begin Date y cuántos con Object End Date"
   ]
  },
  {
   "cell_type": "code",
   "execution_count": null,
   "metadata": {},
   "outputs": [],
   "source": []
  },
  {
   "cell_type": "markdown",
   "metadata": {},
   "source": [
    "## Nota: Organizar el dataset\n",
    "\n",
    "Para llevar a cabo esta tarea necesitamos algunas herramientas que veremos en la segunda parte de Pandas.\n",
    "\n",
    "En esa clase vamos a volver a este ejercicio y resolver este punto.\n",
    "\n",
    "Los campos que vamos a analizar son \"Artist Nationality\" y \"Artist Display Name\""
   ]
  },
  {
   "cell_type": "code",
   "execution_count": null,
   "metadata": {},
   "outputs": [],
   "source": [
    "data[\"Artist Nationality\"].value_counts()"
   ]
  },
  {
   "cell_type": "code",
   "execution_count": null,
   "metadata": {},
   "outputs": [],
   "source": [
    "data[\"Artist Display Name\"].value_counts() "
   ]
  }
 ],
 "metadata": {
  "kernelspec": {
   "display_name": "Python 3 (ipykernel)",
   "language": "python",
   "name": "python3"
  },
  "language_info": {
   "codemirror_mode": {
    "name": "ipython",
    "version": 3
   },
   "file_extension": ".py",
   "mimetype": "text/x-python",
   "name": "python",
   "nbconvert_exporter": "python",
   "pygments_lexer": "ipython3",
   "version": "3.8.12"
  }
 },
 "nbformat": 4,
 "nbformat_minor": 4
}
