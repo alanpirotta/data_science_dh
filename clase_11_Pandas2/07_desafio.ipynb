{
 "cells": [
  {
   "cell_type": "markdown",
   "metadata": {},
   "source": [
    "# Pandas 2\n",
    "\n",
    "## Introducción\n",
    "\n",
    "\n",
    "En esta notebook vamos a trabajar con los conceptos de agregación a través de `groupby` y `pivot tables`. \n",
    "\n",
    "Analizaremos características de precio y superficie, por barrio y por comuna, de inmuebles en venta en la Ciudad de Buenos Aires en el año 2016.\n"
   ]
  },
  {
   "cell_type": "markdown",
   "metadata": {},
   "source": [
    "## Dataset\n",
    "\n",
    "El Gobierno de la Ciudad de Buenos Aires disponibiliza algunos datasets para acceso público en la url \n",
    "https://data.buenosaires.gob.ar/\n",
    "\n",
    "Allí encontramos datos de propiedades inmuebles en venta, separados por año\n",
    "https://data.buenosaires.gob.ar/dataset/departamentos-venta\n",
    "\n",
    "En esta clase vamos a usar un subconjunto de los datos de \"Departamentos en venta 2016\" que descargamos desde aquí\n",
    "https://data.buenosaires.gob.ar/dataset/departamentos-venta/archivo/juqdkmgo-7031-resource\n",
    "\n",
    "En la carpeta Data de esta clase ya tenemos descargardo ese dataset, el nombre del archivo es **departamentos-en-venta-2016.csv**."
   ]
  },
  {
   "cell_type": "markdown",
   "metadata": {},
   "source": [
    "## Imports"
   ]
  },
  {
   "cell_type": "code",
   "execution_count": 1,
   "metadata": {},
   "outputs": [],
   "source": [
    "import pandas as pd\n",
    "import numpy as np"
   ]
  },
  {
   "cell_type": "markdown",
   "metadata": {},
   "source": [
    "## Ejercicio 1  - Importar \n",
    "\n",
    "Leamos los datos del archivo departamentos-en-venta-2016.csv\n",
    "\n",
    "Veamos cuántos registros tiene y de qué tipos son los datos de cada columna. \n",
    "\n",
    "Veamos los primeros registros para verificar que los datos fueron importados correctamente."
   ]
  },
  {
   "cell_type": "code",
   "execution_count": 2,
   "metadata": {},
   "outputs": [],
   "source": [
    "import chardet\n",
    "def get_encoding_type(csv_path):\n",
    "    rawdata = open(csv_path, 'rb').read()\n",
    "    result = chardet.detect(rawdata)\n",
    "    return result.get('encoding')"
   ]
  },
  {
   "cell_type": "code",
   "execution_count": 3,
   "metadata": {},
   "outputs": [],
   "source": [
    "data_location = \"../Data/departamentos-en-venta-2016.csv\""
   ]
  },
  {
   "cell_type": "code",
   "execution_count": 8,
   "metadata": {},
   "outputs": [
    {
     "data": {
      "text/plain": [
       "'utf-8'"
      ]
     },
     "execution_count": 8,
     "metadata": {},
     "output_type": "execute_result"
    }
   ],
   "source": [
    "get_encoding_type(data_location)"
   ]
  },
  {
   "cell_type": "code",
   "execution_count": 12,
   "metadata": {},
   "outputs": [],
   "source": [
    "df = pd.read_csv(data_location, sep=';', encoding='utf-8')"
   ]
  },
  {
   "cell_type": "code",
   "execution_count": 51,
   "metadata": {},
   "outputs": [
    {
     "data": {
      "text/html": [
       "<div>\n",
       "<style scoped>\n",
       "    .dataframe tbody tr th:only-of-type {\n",
       "        vertical-align: middle;\n",
       "    }\n",
       "\n",
       "    .dataframe tbody tr th {\n",
       "        vertical-align: top;\n",
       "    }\n",
       "\n",
       "    .dataframe thead th {\n",
       "        text-align: right;\n",
       "    }\n",
       "</style>\n",
       "<table border=\"1\" class=\"dataframe\">\n",
       "  <thead>\n",
       "    <tr style=\"text-align: right;\">\n",
       "      <th></th>\n",
       "      <th>CALLE</th>\n",
       "      <th>NUMERO</th>\n",
       "      <th>ID_ZONAPRO</th>\n",
       "      <th>OPERACION</th>\n",
       "      <th>TIPO</th>\n",
       "      <th>M2</th>\n",
       "      <th>M2CUB</th>\n",
       "      <th>PRECIOTEXT</th>\n",
       "      <th>PRECIOARS</th>\n",
       "      <th>PRECIOARSM</th>\n",
       "      <th>...</th>\n",
       "      <th>URL</th>\n",
       "      <th>REVISION</th>\n",
       "      <th>NOTA</th>\n",
       "      <th>DIRECCION_NORMALIZADA</th>\n",
       "      <th>BARRIO</th>\n",
       "      <th>COMUNA</th>\n",
       "      <th>CODIGO_POSTAL</th>\n",
       "      <th>CODIGO_POSTAL_ARGENTINO</th>\n",
       "      <th>LATITUD</th>\n",
       "      <th>LONGITUD</th>\n",
       "    </tr>\n",
       "  </thead>\n",
       "  <tbody>\n",
       "    <tr>\n",
       "      <th>7559</th>\n",
       "      <td>NaN</td>\n",
       "      <td>NaN</td>\n",
       "      <td>42302009</td>\n",
       "      <td>VTA</td>\n",
       "      <td>DTO</td>\n",
       "      <td>37</td>\n",
       "      <td>32</td>\n",
       "      <td>U$S 84.700</td>\n",
       "      <td>1482250</td>\n",
       "      <td>0</td>\n",
       "      <td>...</td>\n",
       "      <td>HTTP://WWW.ZONAPROP.COM.AR/PROPIEDADES/A-42302...</td>\n",
       "      <td>NaN</td>\n",
       "      <td>NaN</td>\n",
       "      <td>NaN</td>\n",
       "      <td>NaN</td>\n",
       "      <td>NaN</td>\n",
       "      <td>NaN</td>\n",
       "      <td>NaN</td>\n",
       "      <td>NaN</td>\n",
       "      <td>NaN</td>\n",
       "    </tr>\n",
       "    <tr>\n",
       "      <th>7560</th>\n",
       "      <td>NaN</td>\n",
       "      <td>NaN</td>\n",
       "      <td>42302010</td>\n",
       "      <td>VTA</td>\n",
       "      <td>DTO</td>\n",
       "      <td>44</td>\n",
       "      <td>44</td>\n",
       "      <td>U$S 99.000</td>\n",
       "      <td>1732500</td>\n",
       "      <td>0</td>\n",
       "      <td>...</td>\n",
       "      <td>HTTP://WWW.ZONAPROP.COM.AR/PROPIEDADES/A-42302...</td>\n",
       "      <td>NaN</td>\n",
       "      <td>NaN</td>\n",
       "      <td>NaN</td>\n",
       "      <td>NaN</td>\n",
       "      <td>NaN</td>\n",
       "      <td>NaN</td>\n",
       "      <td>NaN</td>\n",
       "      <td>NaN</td>\n",
       "      <td>NaN</td>\n",
       "    </tr>\n",
       "    <tr>\n",
       "      <th>7561</th>\n",
       "      <td>NaN</td>\n",
       "      <td>NaN</td>\n",
       "      <td>42302011</td>\n",
       "      <td>VTA</td>\n",
       "      <td>DTO</td>\n",
       "      <td>45</td>\n",
       "      <td>40</td>\n",
       "      <td>U$S 95.220</td>\n",
       "      <td>1666350</td>\n",
       "      <td>0</td>\n",
       "      <td>...</td>\n",
       "      <td>HTTP://WWW.ZONAPROP.COM.AR/PROPIEDADES/A-42302...</td>\n",
       "      <td>NaN</td>\n",
       "      <td>NaN</td>\n",
       "      <td>NaN</td>\n",
       "      <td>NaN</td>\n",
       "      <td>NaN</td>\n",
       "      <td>NaN</td>\n",
       "      <td>NaN</td>\n",
       "      <td>NaN</td>\n",
       "      <td>NaN</td>\n",
       "    </tr>\n",
       "    <tr>\n",
       "      <th>7562</th>\n",
       "      <td>NaN</td>\n",
       "      <td>NaN</td>\n",
       "      <td>42302012</td>\n",
       "      <td>VTA</td>\n",
       "      <td>DTO</td>\n",
       "      <td>44</td>\n",
       "      <td>39</td>\n",
       "      <td>U$S 95.220</td>\n",
       "      <td>1666350</td>\n",
       "      <td>0</td>\n",
       "      <td>...</td>\n",
       "      <td>HTTP://WWW.ZONAPROP.COM.AR/PROPIEDADES/A-42302...</td>\n",
       "      <td>NaN</td>\n",
       "      <td>NaN</td>\n",
       "      <td>NaN</td>\n",
       "      <td>NaN</td>\n",
       "      <td>NaN</td>\n",
       "      <td>NaN</td>\n",
       "      <td>NaN</td>\n",
       "      <td>NaN</td>\n",
       "      <td>NaN</td>\n",
       "    </tr>\n",
       "    <tr>\n",
       "      <th>7563</th>\n",
       "      <td>GARAY, JUAN DE AV.</td>\n",
       "      <td>612.0</td>\n",
       "      <td>42394651</td>\n",
       "      <td>VTA</td>\n",
       "      <td>DTO</td>\n",
       "      <td>51</td>\n",
       "      <td>46</td>\n",
       "      <td>U$S 147.619</td>\n",
       "      <td>2583332</td>\n",
       "      <td>0</td>\n",
       "      <td>...</td>\n",
       "      <td>HTTP://WWW.ZONAPROP.COM.AR/PROPIEDADES/A-42394...</td>\n",
       "      <td>NaN</td>\n",
       "      <td>NaN</td>\n",
       "      <td>GARAY, JUAN DE AV. 612</td>\n",
       "      <td>SAN TELMO</td>\n",
       "      <td>COMUNA 01</td>\n",
       "      <td>1153.0</td>\n",
       "      <td>C1153ABR</td>\n",
       "      <td>-34.624541</td>\n",
       "      <td>-58.374337</td>\n",
       "    </tr>\n",
       "  </tbody>\n",
       "</table>\n",
       "<p>5 rows × 29 columns</p>\n",
       "</div>"
      ],
      "text/plain": [
       "                   CALLE  NUMERO  ID_ZONAPRO OPERACION TIPO  M2  M2CUB  \\\n",
       "7559                 NaN     NaN    42302009       VTA  DTO  37     32   \n",
       "7560                 NaN     NaN    42302010       VTA  DTO  44     44   \n",
       "7561                 NaN     NaN    42302011       VTA  DTO  45     40   \n",
       "7562                 NaN     NaN    42302012       VTA  DTO  44     39   \n",
       "7563  GARAY, JUAN DE AV.   612.0    42394651       VTA  DTO  51     46   \n",
       "\n",
       "       PRECIOTEXT  PRECIOARS  PRECIOARSM  ...  \\\n",
       "7559   U$S 84.700    1482250           0  ...   \n",
       "7560   U$S 99.000    1732500           0  ...   \n",
       "7561   U$S 95.220    1666350           0  ...   \n",
       "7562   U$S 95.220    1666350           0  ...   \n",
       "7563  U$S 147.619    2583332           0  ...   \n",
       "\n",
       "                                                    URL  REVISION  NOTA  \\\n",
       "7559  HTTP://WWW.ZONAPROP.COM.AR/PROPIEDADES/A-42302...       NaN   NaN   \n",
       "7560  HTTP://WWW.ZONAPROP.COM.AR/PROPIEDADES/A-42302...       NaN   NaN   \n",
       "7561  HTTP://WWW.ZONAPROP.COM.AR/PROPIEDADES/A-42302...       NaN   NaN   \n",
       "7562  HTTP://WWW.ZONAPROP.COM.AR/PROPIEDADES/A-42302...       NaN   NaN   \n",
       "7563  HTTP://WWW.ZONAPROP.COM.AR/PROPIEDADES/A-42394...       NaN   NaN   \n",
       "\n",
       "       DIRECCION_NORMALIZADA     BARRIO     COMUNA CODIGO_POSTAL  \\\n",
       "7559                     NaN        NaN        NaN           NaN   \n",
       "7560                     NaN        NaN        NaN           NaN   \n",
       "7561                     NaN        NaN        NaN           NaN   \n",
       "7562                     NaN        NaN        NaN           NaN   \n",
       "7563  GARAY, JUAN DE AV. 612  SAN TELMO  COMUNA 01        1153.0   \n",
       "\n",
       "     CODIGO_POSTAL_ARGENTINO    LATITUD   LONGITUD  \n",
       "7559                     NaN        NaN        NaN  \n",
       "7560                     NaN        NaN        NaN  \n",
       "7561                     NaN        NaN        NaN  \n",
       "7562                     NaN        NaN        NaN  \n",
       "7563                C1153ABR -34.624541 -58.374337  \n",
       "\n",
       "[5 rows x 29 columns]"
      ]
     },
     "execution_count": 51,
     "metadata": {},
     "output_type": "execute_result"
    }
   ],
   "source": [
    "df.tail()"
   ]
  },
  {
   "cell_type": "code",
   "execution_count": 14,
   "metadata": {},
   "outputs": [
    {
     "data": {
      "text/plain": [
       "(7564, 29)"
      ]
     },
     "execution_count": 14,
     "metadata": {},
     "output_type": "execute_result"
    }
   ],
   "source": [
    "df.shape"
   ]
  },
  {
   "cell_type": "code",
   "execution_count": 17,
   "metadata": {},
   "outputs": [
    {
     "name": "stdout",
     "output_type": "stream",
     "text": [
      "<class 'pandas.core.frame.DataFrame'>\n",
      "RangeIndex: 7564 entries, 0 to 7563\n",
      "Data columns (total 29 columns):\n",
      " #   Column                   Non-Null Count  Dtype  \n",
      "---  ------                   --------------  -----  \n",
      " 0   CALLE                    6182 non-null   object \n",
      " 1   NUMERO                   6182 non-null   float64\n",
      " 2   ID_ZONAPRO               7564 non-null   int64  \n",
      " 3   OPERACION                7564 non-null   object \n",
      " 4   TIPO                     7564 non-null   object \n",
      " 5   M2                       7564 non-null   int64  \n",
      " 6   M2CUB                    7564 non-null   int64  \n",
      " 7   PRECIOTEXT               7562 non-null   object \n",
      " 8   PRECIOARS                7564 non-null   int64  \n",
      " 9   PRECIOARSM               7564 non-null   int64  \n",
      " 10  DOLARES                  7564 non-null   int64  \n",
      " 11  U_S_M2                   7564 non-null   int64  \n",
      " 12  AMBIENTES                7564 non-null   int64  \n",
      " 13  ANTIGUEDAD               7564 non-null   int64  \n",
      " 14  BAÑOS                    7564 non-null   int64  \n",
      " 15  DIRECCION                7559 non-null   object \n",
      " 16  LOCATION                 7561 non-null   object \n",
      " 17  PUBLICADO                7564 non-null   object \n",
      " 18  PROCESADO                7564 non-null   object \n",
      " 19  URL                      7564 non-null   object \n",
      " 20  REVISION                 0 non-null      float64\n",
      " 21  NOTA                     0 non-null      float64\n",
      " 22  DIRECCION_NORMALIZADA    6182 non-null   object \n",
      " 23  BARRIO                   6182 non-null   object \n",
      " 24  COMUNA                   6182 non-null   object \n",
      " 25  CODIGO_POSTAL            5934 non-null   float64\n",
      " 26  CODIGO_POSTAL_ARGENTINO  5934 non-null   object \n",
      " 27  LATITUD                  6182 non-null   float64\n",
      " 28  LONGITUD                 6182 non-null   float64\n",
      "dtypes: float64(6), int64(10), object(13)\n",
      "memory usage: 1.7+ MB\n"
     ]
    }
   ],
   "source": [
    "df.info()"
   ]
  },
  {
   "cell_type": "markdown",
   "metadata": {},
   "source": [
    "## Ejercicio 2  - Promedio\n",
    "\n",
    "¿Cuál es el promedio valor del precio por $m^2$ en dolares?\n",
    "\n",
    "Para responder esta pregunta vamos a:\n",
    "\n",
    "1) Crear un obeto Series que resulte de limpiar los valores del campo PRECIOTEXT. Tenemos que eliminar los símbolos \"U\\\\$S\" y \".\"\n",
    "\n",
    "2) En la instancia de Series resultado del punto 1) reemplazamos los valores en pesos ('\\\\$') por nulos (para que nos ensucien los datos de promedio). \n",
    "\n",
    "3) Crear una columna nueva de tipo numérico en el DataFrame (PRECIOTEXT_CLEAN) y asignar los valores de resultado de 2)\n",
    "\n",
    "3) Crear una columna de tipo numérico (PRECIOTEXTM) que tenga el precio del m2 en dolares calculado como el valor de PRECIOTEXT_CLEAN / M2\n",
    "\n",
    "4) Calcular la media de los valores de PRECIOTEXTM\n"
   ]
  },
  {
   "cell_type": "code",
   "execution_count": 106,
   "metadata": {},
   "outputs": [],
   "source": [
    "def limpiar_precio(precio):\n",
    "    precio = str(precio)\n",
    "    valor = precio\n",
    "    # Está en dólares?\n",
    "    if precio.startswith('U$S '):\n",
    "        valor = precio.lstrip('U$S ')\n",
    "    # Remuevo el punto separador de miles\n",
    "    if '.' in precio:\n",
    "        valor = valor.replace('.','')\n",
    "    # Elimino los valores en pesos\n",
    "    if precio.startswith('$'):\n",
    "        valor = None\n",
    "    return valor"
   ]
  },
  {
   "cell_type": "code",
   "execution_count": 107,
   "metadata": {},
   "outputs": [],
   "source": [
    "df['PRECIOTEXT_CLEAN'] = df['PRECIOTEXT'].apply(limpiar_precio).astype('float')"
   ]
  },
  {
   "cell_type": "code",
   "execution_count": 110,
   "metadata": {},
   "outputs": [],
   "source": [
    "df['PRECIOTEXTM'] = df['PRECIOTEXT_CLEAN']/df['M2']"
   ]
  },
  {
   "cell_type": "code",
   "execution_count": 116,
   "metadata": {},
   "outputs": [
    {
     "name": "stdout",
     "output_type": "stream",
     "text": [
      "Promedio de valor en dólares del M2: \n"
     ]
    },
    {
     "data": {
      "text/plain": [
       "2522.49"
      ]
     },
     "execution_count": 116,
     "metadata": {},
     "output_type": "execute_result"
    }
   ],
   "source": [
    "print('Promedio de valor en dólares del M2: ')\n",
    "df['PRECIOTEXTM'].mean().round(2)"
   ]
  },
  {
   "cell_type": "markdown",
   "metadata": {},
   "source": [
    "## Ejercicio 3  - Promedio por cuartil\n",
    "¿Cuál es el precio promedio del metro cuadrado en dolares para cada cuartil de superficie (campo M2) de las viviendas en CABA?\n",
    "\n",
    "Comenzamos calculando los cuartilos de superficie."
   ]
  },
  {
   "cell_type": "code",
   "execution_count": 132,
   "metadata": {},
   "outputs": [
    {
     "data": {
      "text/plain": [
       "(41.0, 54.0, 80.0, 730.0)"
      ]
     },
     "execution_count": 132,
     "metadata": {},
     "output_type": "execute_result"
    }
   ],
   "source": [
    "q1_m2 = df['M2'].quantile(0.25)\n",
    "q2_m2 = df['M2'].quantile(0.50)\n",
    "q3_m2 = df['M2'].quantile(0.75)\n",
    "q4_m2 = df['M2'].quantile(1)\n",
    "q1_m2, q2_m2, q3_m2, q4_m2"
   ]
  },
  {
   "cell_type": "code",
   "execution_count": 136,
   "metadata": {},
   "outputs": [],
   "source": [
    "df_q1 = df[df['M2']<=q1_m2]\n",
    "df_q2 = df[(df['M2']>q1_m2) & (df['M2']<=q2_m2)]\n",
    "df_q3 = df[(df['M2']>q2_m2) & (df['M2']<=q3_m2)]\n",
    "df_q4 = df[df['M2']>q3_m2]"
   ]
  },
  {
   "cell_type": "code",
   "execution_count": 143,
   "metadata": {},
   "outputs": [
    {
     "data": {
      "text/plain": [
       "(2418.49, 2455.99, 2438.61, 2788.3)"
      ]
     },
     "execution_count": 143,
     "metadata": {},
     "output_type": "execute_result"
    }
   ],
   "source": [
    "df_q1['PRECIOTEXTM'].mean().round(2), df_q2['PRECIOTEXTM'].mean().round(2), df_q3['PRECIOTEXTM'].mean().round(2), df_q4['PRECIOTEXTM'].mean().round(2)"
   ]
  },
  {
   "cell_type": "code",
   "execution_count": 149,
   "metadata": {},
   "outputs": [
    {
     "data": {
      "text/plain": [
       "M2\n",
       "(14.999, 41.0]    2418.49\n",
       "(41.0, 54.0]      2455.99\n",
       "(54.0, 80.0]      2438.61\n",
       "(80.0, 730.0]     2788.30\n",
       "Name: PRECIOTEXTM, dtype: float64"
      ]
     },
     "execution_count": 149,
     "metadata": {},
     "output_type": "execute_result"
    }
   ],
   "source": [
    "# Forma alternativa con qcut y groupby\n",
    "df_qs = pd.qcut(df['M2'],4)\n",
    "df.groupby(df_qs)['PRECIOTEXTM'].mean().round(2)"
   ]
  },
  {
   "cell_type": "markdown",
   "metadata": {},
   "source": [
    "## Ejercicio 3  - Promedio por barrio\n",
    "\n",
    "¿Cuál es la media de precio por metro cuadrado en dolares para cada barrio de la CABA? \n",
    "\n",
    "Ordenemos los datos para indicar cuál es el barrio más caro.\n",
    "\n",
    "Resolvamos el cálculo tanto con groupby como con pivot tables"
   ]
  },
  {
   "cell_type": "code",
   "execution_count": 161,
   "metadata": {},
   "outputs": [
    {
     "data": {
      "text/plain": [
       "BARRIO\n",
       "PUERTO MADERO        5412.468738\n",
       "PALERMO              3136.014984\n",
       "BELGRANO             3110.065913\n",
       "RETIRO               2941.052687\n",
       "RECOLETA             2876.201544\n",
       "PARQUE CHACABUCO     2645.412539\n",
       "COLEGIALES           2636.723717\n",
       "NUÑEZ                2597.472491\n",
       "COGHLAN              2451.120924\n",
       "CABALLITO            2412.777566\n",
       "VILLA ORTUZAR        2408.765643\n",
       "VILLA URQUIZA        2402.505658\n",
       "SAAVEDRA             2365.061414\n",
       "MONSERRAT            2349.127916\n",
       "CHACARITA            2338.939470\n",
       "VILLA CRESPO         2331.951318\n",
       "AGRONOMIA            2276.703779\n",
       "ALMAGRO              2252.269793\n",
       "VILLA DEL PARQUE     2240.717867\n",
       "BOEDO                2215.391462\n",
       "CONSTITUCION         2197.241584\n",
       "VILLA DEVOTO         2190.415302\n",
       "SAN NICOLAS          2186.049883\n",
       "BARRACAS             2166.146707\n",
       "VILLA PUEYRREDON     2159.102203\n",
       "SAN TELMO            2145.817227\n",
       "PARQUE CHAS          2137.475822\n",
       "BALVANERA            1988.284935\n",
       "BOCA                 1963.575157\n",
       "VILLA LURO           1960.143435\n",
       "MONTE CASTRO         1952.634631\n",
       "PARQUE PATRICIOS     1943.392373\n",
       "VILLA GRAL. MITRE    1928.578367\n",
       "VERSALLES            1926.168413\n",
       "SAN CRISTOBAL        1914.203956\n",
       "VILLA SANTA RITA     1907.998258\n",
       "FLORES               1905.204204\n",
       "LINIERS              1885.041244\n",
       "PARQUE AVELLANEDA    1806.324289\n",
       "MATADEROS            1804.158874\n",
       "VELEZ SARSFIELD      1748.636059\n",
       "VILLA REAL           1738.200049\n",
       "PATERNAL             1720.779221\n",
       "FLORESTA             1711.078346\n",
       "NUEVA POMPEYA        1622.727273\n",
       "VILLA LUGANO         1138.726815\n",
       "VILLA SOLDATI         812.500000\n",
       "Name: PRECIOTEXTM, dtype: float64"
      ]
     },
     "execution_count": 161,
     "metadata": {},
     "output_type": "execute_result"
    }
   ],
   "source": [
    "df.groupby('BARRIO')['PRECIOTEXTM']\\\n",
    "            .mean()\\\n",
    "            .sort_values(ascending=False)"
   ]
  },
  {
   "cell_type": "code",
   "execution_count": 160,
   "metadata": {},
   "outputs": [
    {
     "data": {
      "text/html": [
       "<div>\n",
       "<style scoped>\n",
       "    .dataframe tbody tr th:only-of-type {\n",
       "        vertical-align: middle;\n",
       "    }\n",
       "\n",
       "    .dataframe tbody tr th {\n",
       "        vertical-align: top;\n",
       "    }\n",
       "\n",
       "    .dataframe thead th {\n",
       "        text-align: right;\n",
       "    }\n",
       "</style>\n",
       "<table border=\"1\" class=\"dataframe\">\n",
       "  <thead>\n",
       "    <tr style=\"text-align: right;\">\n",
       "      <th></th>\n",
       "      <th>PRECIOTEXTM</th>\n",
       "    </tr>\n",
       "    <tr>\n",
       "      <th>BARRIO</th>\n",
       "      <th></th>\n",
       "    </tr>\n",
       "  </thead>\n",
       "  <tbody>\n",
       "    <tr>\n",
       "      <th>PUERTO MADERO</th>\n",
       "      <td>5412.468738</td>\n",
       "    </tr>\n",
       "    <tr>\n",
       "      <th>PALERMO</th>\n",
       "      <td>3136.014984</td>\n",
       "    </tr>\n",
       "    <tr>\n",
       "      <th>BELGRANO</th>\n",
       "      <td>3110.065913</td>\n",
       "    </tr>\n",
       "    <tr>\n",
       "      <th>RETIRO</th>\n",
       "      <td>2941.052687</td>\n",
       "    </tr>\n",
       "    <tr>\n",
       "      <th>RECOLETA</th>\n",
       "      <td>2876.201544</td>\n",
       "    </tr>\n",
       "    <tr>\n",
       "      <th>PARQUE CHACABUCO</th>\n",
       "      <td>2645.412539</td>\n",
       "    </tr>\n",
       "    <tr>\n",
       "      <th>COLEGIALES</th>\n",
       "      <td>2636.723717</td>\n",
       "    </tr>\n",
       "    <tr>\n",
       "      <th>NUÑEZ</th>\n",
       "      <td>2597.472491</td>\n",
       "    </tr>\n",
       "    <tr>\n",
       "      <th>COGHLAN</th>\n",
       "      <td>2451.120924</td>\n",
       "    </tr>\n",
       "    <tr>\n",
       "      <th>CABALLITO</th>\n",
       "      <td>2412.777566</td>\n",
       "    </tr>\n",
       "    <tr>\n",
       "      <th>VILLA ORTUZAR</th>\n",
       "      <td>2408.765643</td>\n",
       "    </tr>\n",
       "    <tr>\n",
       "      <th>VILLA URQUIZA</th>\n",
       "      <td>2402.505658</td>\n",
       "    </tr>\n",
       "    <tr>\n",
       "      <th>SAAVEDRA</th>\n",
       "      <td>2365.061414</td>\n",
       "    </tr>\n",
       "    <tr>\n",
       "      <th>MONSERRAT</th>\n",
       "      <td>2349.127916</td>\n",
       "    </tr>\n",
       "    <tr>\n",
       "      <th>CHACARITA</th>\n",
       "      <td>2338.939470</td>\n",
       "    </tr>\n",
       "    <tr>\n",
       "      <th>VILLA CRESPO</th>\n",
       "      <td>2331.951318</td>\n",
       "    </tr>\n",
       "    <tr>\n",
       "      <th>AGRONOMIA</th>\n",
       "      <td>2276.703779</td>\n",
       "    </tr>\n",
       "    <tr>\n",
       "      <th>ALMAGRO</th>\n",
       "      <td>2252.269793</td>\n",
       "    </tr>\n",
       "    <tr>\n",
       "      <th>VILLA DEL PARQUE</th>\n",
       "      <td>2240.717867</td>\n",
       "    </tr>\n",
       "    <tr>\n",
       "      <th>BOEDO</th>\n",
       "      <td>2215.391462</td>\n",
       "    </tr>\n",
       "    <tr>\n",
       "      <th>CONSTITUCION</th>\n",
       "      <td>2197.241584</td>\n",
       "    </tr>\n",
       "    <tr>\n",
       "      <th>VILLA DEVOTO</th>\n",
       "      <td>2190.415302</td>\n",
       "    </tr>\n",
       "    <tr>\n",
       "      <th>SAN NICOLAS</th>\n",
       "      <td>2186.049883</td>\n",
       "    </tr>\n",
       "    <tr>\n",
       "      <th>BARRACAS</th>\n",
       "      <td>2166.146707</td>\n",
       "    </tr>\n",
       "    <tr>\n",
       "      <th>VILLA PUEYRREDON</th>\n",
       "      <td>2159.102203</td>\n",
       "    </tr>\n",
       "    <tr>\n",
       "      <th>SAN TELMO</th>\n",
       "      <td>2145.817227</td>\n",
       "    </tr>\n",
       "    <tr>\n",
       "      <th>PARQUE CHAS</th>\n",
       "      <td>2137.475822</td>\n",
       "    </tr>\n",
       "    <tr>\n",
       "      <th>BALVANERA</th>\n",
       "      <td>1988.284935</td>\n",
       "    </tr>\n",
       "    <tr>\n",
       "      <th>BOCA</th>\n",
       "      <td>1963.575157</td>\n",
       "    </tr>\n",
       "    <tr>\n",
       "      <th>VILLA LURO</th>\n",
       "      <td>1960.143435</td>\n",
       "    </tr>\n",
       "    <tr>\n",
       "      <th>MONTE CASTRO</th>\n",
       "      <td>1952.634631</td>\n",
       "    </tr>\n",
       "    <tr>\n",
       "      <th>PARQUE PATRICIOS</th>\n",
       "      <td>1943.392373</td>\n",
       "    </tr>\n",
       "    <tr>\n",
       "      <th>VILLA GRAL. MITRE</th>\n",
       "      <td>1928.578367</td>\n",
       "    </tr>\n",
       "    <tr>\n",
       "      <th>VERSALLES</th>\n",
       "      <td>1926.168413</td>\n",
       "    </tr>\n",
       "    <tr>\n",
       "      <th>SAN CRISTOBAL</th>\n",
       "      <td>1914.203956</td>\n",
       "    </tr>\n",
       "    <tr>\n",
       "      <th>VILLA SANTA RITA</th>\n",
       "      <td>1907.998258</td>\n",
       "    </tr>\n",
       "    <tr>\n",
       "      <th>FLORES</th>\n",
       "      <td>1905.204204</td>\n",
       "    </tr>\n",
       "    <tr>\n",
       "      <th>LINIERS</th>\n",
       "      <td>1885.041244</td>\n",
       "    </tr>\n",
       "    <tr>\n",
       "      <th>PARQUE AVELLANEDA</th>\n",
       "      <td>1806.324289</td>\n",
       "    </tr>\n",
       "    <tr>\n",
       "      <th>MATADEROS</th>\n",
       "      <td>1804.158874</td>\n",
       "    </tr>\n",
       "    <tr>\n",
       "      <th>VELEZ SARSFIELD</th>\n",
       "      <td>1748.636059</td>\n",
       "    </tr>\n",
       "    <tr>\n",
       "      <th>VILLA REAL</th>\n",
       "      <td>1738.200049</td>\n",
       "    </tr>\n",
       "    <tr>\n",
       "      <th>PATERNAL</th>\n",
       "      <td>1720.779221</td>\n",
       "    </tr>\n",
       "    <tr>\n",
       "      <th>FLORESTA</th>\n",
       "      <td>1711.078346</td>\n",
       "    </tr>\n",
       "    <tr>\n",
       "      <th>NUEVA POMPEYA</th>\n",
       "      <td>1622.727273</td>\n",
       "    </tr>\n",
       "    <tr>\n",
       "      <th>VILLA LUGANO</th>\n",
       "      <td>1138.726815</td>\n",
       "    </tr>\n",
       "    <tr>\n",
       "      <th>VILLA SOLDATI</th>\n",
       "      <td>812.500000</td>\n",
       "    </tr>\n",
       "  </tbody>\n",
       "</table>\n",
       "</div>"
      ],
      "text/plain": [
       "                   PRECIOTEXTM\n",
       "BARRIO                        \n",
       "PUERTO MADERO      5412.468738\n",
       "PALERMO            3136.014984\n",
       "BELGRANO           3110.065913\n",
       "RETIRO             2941.052687\n",
       "RECOLETA           2876.201544\n",
       "PARQUE CHACABUCO   2645.412539\n",
       "COLEGIALES         2636.723717\n",
       "NUÑEZ              2597.472491\n",
       "COGHLAN            2451.120924\n",
       "CABALLITO          2412.777566\n",
       "VILLA ORTUZAR      2408.765643\n",
       "VILLA URQUIZA      2402.505658\n",
       "SAAVEDRA           2365.061414\n",
       "MONSERRAT          2349.127916\n",
       "CHACARITA          2338.939470\n",
       "VILLA CRESPO       2331.951318\n",
       "AGRONOMIA          2276.703779\n",
       "ALMAGRO            2252.269793\n",
       "VILLA DEL PARQUE   2240.717867\n",
       "BOEDO              2215.391462\n",
       "CONSTITUCION       2197.241584\n",
       "VILLA DEVOTO       2190.415302\n",
       "SAN NICOLAS        2186.049883\n",
       "BARRACAS           2166.146707\n",
       "VILLA PUEYRREDON   2159.102203\n",
       "SAN TELMO          2145.817227\n",
       "PARQUE CHAS        2137.475822\n",
       "BALVANERA          1988.284935\n",
       "BOCA               1963.575157\n",
       "VILLA LURO         1960.143435\n",
       "MONTE CASTRO       1952.634631\n",
       "PARQUE PATRICIOS   1943.392373\n",
       "VILLA GRAL. MITRE  1928.578367\n",
       "VERSALLES          1926.168413\n",
       "SAN CRISTOBAL      1914.203956\n",
       "VILLA SANTA RITA   1907.998258\n",
       "FLORES             1905.204204\n",
       "LINIERS            1885.041244\n",
       "PARQUE AVELLANEDA  1806.324289\n",
       "MATADEROS          1804.158874\n",
       "VELEZ SARSFIELD    1748.636059\n",
       "VILLA REAL         1738.200049\n",
       "PATERNAL           1720.779221\n",
       "FLORESTA           1711.078346\n",
       "NUEVA POMPEYA      1622.727273\n",
       "VILLA LUGANO       1138.726815\n",
       "VILLA SOLDATI       812.500000"
      ]
     },
     "execution_count": 160,
     "metadata": {},
     "output_type": "execute_result"
    }
   ],
   "source": [
    "pd.pivot_table(df, values='PRECIOTEXTM', index='BARRIO')\\\n",
    "                .sort_values(by='PRECIOTEXTM', ascending=False)"
   ]
  },
  {
   "cell_type": "markdown",
   "metadata": {},
   "source": [
    "## Ejercicio 4  - Dispersión de precios por barrio\n",
    "\n",
    "**4.a** ¿En qué barrio hay una mayor dispersión en el valor del metro cuadrado en dolares? Ordenar los valores para identificar el mayor.\n",
    "\n",
    "Ayuda: Calculamos dispersión como el desvío estandar de un grupo dividido la media de ese grupo grupo\n",
    "\n",
    "Vamos a calcular esto de dos maneras distintas:\n",
    "\n",
    "1) Calculamos la instancia de Series que tiene la media por grupo. Calculamos la instancia de Series que tiene el desvío estandar por grupo. Las dividimos. Ordenamos\n",
    "\n",
    "2) Calculamos los grupos y usamos una función lambda que calcule la media, desvío estandar y divida. Ordenamos.\n",
    "\n",
    "**4.b** Cuál les parece que será más eficiente? Probemoslo con %timeit, para eso definamos dos funciones que encapsulen el código de 1) y 2).\n",
    "\n",
    "**4.c** ¿Por qué Paternal está devolviendo NaN? ¿Y por qué Villa Soldati devuelve 0?\n",
    "\n",
    "Nota: tengan en cuenta que `mean` y `std` sobre una instancia de `DataFrameGroupBy` excluye los valores nulos\n",
    "\n",
    "https://pandas.pydata.org/pandas-docs/stable/reference/api/pandas.core.groupby.GroupBy.mean.html\n",
    "\n",
    "https://pandas.pydata.org/pandas-docs/stable/reference/api/pandas.core.groupby.GroupBy.std.html\n",
    "\n",
    "\n",
    "\n"
   ]
  },
  {
   "cell_type": "code",
   "execution_count": null,
   "metadata": {},
   "outputs": [],
   "source": [
    "\n",
    "    "
   ]
  },
  {
   "cell_type": "code",
   "execution_count": null,
   "metadata": {},
   "outputs": [],
   "source": []
  },
  {
   "cell_type": "markdown",
   "metadata": {},
   "source": [
    "Vamos a ver cuánto da si usamos la lambda directamente, sin pasar por dispersion_2:"
   ]
  },
  {
   "cell_type": "code",
   "execution_count": null,
   "metadata": {},
   "outputs": [],
   "source": []
  },
  {
   "cell_type": "markdown",
   "metadata": {},
   "source": [
    "Veamos por qué Paternal devuelve NaN y Villa Soldati que devuelve 0.\n"
   ]
  },
  {
   "cell_type": "code",
   "execution_count": null,
   "metadata": {},
   "outputs": [],
   "source": []
  },
  {
   "cell_type": "code",
   "execution_count": null,
   "metadata": {},
   "outputs": [],
   "source": []
  },
  {
   "cell_type": "markdown",
   "metadata": {},
   "source": [
    "## Ejercicio 5  - Superficie por barrio\n",
    "\n",
    "Calculemos la mediana de superficie por barrio para determinar en qué barrio los departamentos son más grandes.\n",
    "\n",
    "Hagamos el cálculo con pivot_table y groupby\n"
   ]
  },
  {
   "cell_type": "code",
   "execution_count": null,
   "metadata": {},
   "outputs": [],
   "source": []
  },
  {
   "cell_type": "markdown",
   "metadata": {},
   "source": [
    "## Ejercicio 6  - Tabla resumen\n",
    "\n",
    "Generemos un `DataFrame` que agregue la información del precio por M2 en dolares (`PRECIOTEXTM`), ambientes (`AMBIENTES`) a nivel de `COMUNA` y barrio (`BARRIO`). Proporcione información tanto de la tendencia central como de la dispersión de ambas distribuciones.\n",
    "\n",
    "Ayuda: usar pivot_table"
   ]
  },
  {
   "cell_type": "code",
   "execution_count": null,
   "metadata": {},
   "outputs": [],
   "source": []
  }
 ],
 "metadata": {
  "kernelspec": {
   "display_name": "Python 3 (ipykernel)",
   "language": "python",
   "name": "python3"
  },
  "language_info": {
   "codemirror_mode": {
    "name": "ipython",
    "version": 3
   },
   "file_extension": ".py",
   "mimetype": "text/x-python",
   "name": "python",
   "nbconvert_exporter": "python",
   "pygments_lexer": "ipython3",
   "version": "3.8.12"
  }
 },
 "nbformat": 4,
 "nbformat_minor": 4
}
