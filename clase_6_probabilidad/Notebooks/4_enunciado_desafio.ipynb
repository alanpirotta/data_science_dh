{
 "cells": [
  {
   "cell_type": "markdown",
   "metadata": {},
   "source": [
    "En la práctica de la clase de hoy usaremos un dataset de Kaggle que tiene datos de ventas:\n",
    "\n",
    "https://www.kaggle.com/kyanyoga/sample-sales-data\n",
    "\n",
    "Ustedes tienen un subconjunto de los datos disponibles, que usaremos para resolver ejercicios de Numpy, Estadística y Probabilidad."
   ]
  },
  {
   "cell_type": "markdown",
   "metadata": {},
   "source": [
    "## Ejercicio 1\n",
    "Leer los datos del archivo /M1/CLASE_03/Data/sales_data_sample_excercise.csv\n",
    "\n",
    "Este archivo tiene algunos datos numéricos y otros de tipo cadena de caracteres. \n",
    "\n",
    "Las columnas son:\n",
    "\n",
    "* ORDERNUMBER: int, id de la orden\n",
    "\n",
    "* SALES: float, monto abonado\n",
    "\n",
    "* MONTH_ID: int, mes\n",
    "\n",
    "* YEAR_ID: int, año\n",
    "\n",
    "* PRODUCTLINE: str, producto\n",
    "\n",
    "* COUNTRY: str, país de venta\n",
    "\n",
    "¿Recuerdan que todos los elementos de una instancia de ndarray deben ser del mismo tipo? Entonces vamos a leer el archivo y crear una instancia de ndarray de tipo cadena de caracteres.\n",
    "\n",
    "¿Qué pasaría si intentáramos crear una instancia de tipo int? ¿Y de tipo float?\n"
   ]
  },
  {
   "cell_type": "code",
   "execution_count": 7,
   "metadata": {},
   "outputs": [
    {
     "data": {
      "text/html": [
       "<div>\n",
       "<style scoped>\n",
       "    .dataframe tbody tr th:only-of-type {\n",
       "        vertical-align: middle;\n",
       "    }\n",
       "\n",
       "    .dataframe tbody tr th {\n",
       "        vertical-align: top;\n",
       "    }\n",
       "\n",
       "    .dataframe thead th {\n",
       "        text-align: right;\n",
       "    }\n",
       "</style>\n",
       "<table border=\"1\" class=\"dataframe\">\n",
       "  <thead>\n",
       "    <tr style=\"text-align: right;\">\n",
       "      <th></th>\n",
       "      <th>ORDERNUMBER</th>\n",
       "      <th>SALES</th>\n",
       "      <th>MONTH_ID</th>\n",
       "      <th>YEAR_ID</th>\n",
       "      <th>PRODUCTLINE</th>\n",
       "      <th>COUNTRY</th>\n",
       "    </tr>\n",
       "  </thead>\n",
       "  <tbody>\n",
       "    <tr>\n",
       "      <th>0</th>\n",
       "      <td>10107</td>\n",
       "      <td>2871.00</td>\n",
       "      <td>2</td>\n",
       "      <td>2003</td>\n",
       "      <td>Motorcycles</td>\n",
       "      <td>USA</td>\n",
       "    </tr>\n",
       "    <tr>\n",
       "      <th>1</th>\n",
       "      <td>10121</td>\n",
       "      <td>2765.90</td>\n",
       "      <td>5</td>\n",
       "      <td>2003</td>\n",
       "      <td>Motorcycles</td>\n",
       "      <td>France</td>\n",
       "    </tr>\n",
       "    <tr>\n",
       "      <th>2</th>\n",
       "      <td>10134</td>\n",
       "      <td>3884.34</td>\n",
       "      <td>7</td>\n",
       "      <td>2003</td>\n",
       "      <td>Motorcycles</td>\n",
       "      <td>France</td>\n",
       "    </tr>\n",
       "    <tr>\n",
       "      <th>3</th>\n",
       "      <td>10145</td>\n",
       "      <td>3746.70</td>\n",
       "      <td>8</td>\n",
       "      <td>2003</td>\n",
       "      <td>Motorcycles</td>\n",
       "      <td>USA</td>\n",
       "    </tr>\n",
       "    <tr>\n",
       "      <th>4</th>\n",
       "      <td>10159</td>\n",
       "      <td>5205.27</td>\n",
       "      <td>10</td>\n",
       "      <td>2003</td>\n",
       "      <td>Motorcycles</td>\n",
       "      <td>USA</td>\n",
       "    </tr>\n",
       "    <tr>\n",
       "      <th>...</th>\n",
       "      <td>...</td>\n",
       "      <td>...</td>\n",
       "      <td>...</td>\n",
       "      <td>...</td>\n",
       "      <td>...</td>\n",
       "      <td>...</td>\n",
       "    </tr>\n",
       "    <tr>\n",
       "      <th>2818</th>\n",
       "      <td>10350</td>\n",
       "      <td>2244.40</td>\n",
       "      <td>12</td>\n",
       "      <td>2004</td>\n",
       "      <td>Ships</td>\n",
       "      <td>Spain</td>\n",
       "    </tr>\n",
       "    <tr>\n",
       "      <th>2819</th>\n",
       "      <td>10373</td>\n",
       "      <td>3978.51</td>\n",
       "      <td>1</td>\n",
       "      <td>2005</td>\n",
       "      <td>Ships</td>\n",
       "      <td>Finland</td>\n",
       "    </tr>\n",
       "    <tr>\n",
       "      <th>2820</th>\n",
       "      <td>10386</td>\n",
       "      <td>5417.57</td>\n",
       "      <td>3</td>\n",
       "      <td>2005</td>\n",
       "      <td>Ships</td>\n",
       "      <td>Spain</td>\n",
       "    </tr>\n",
       "    <tr>\n",
       "      <th>2821</th>\n",
       "      <td>10397</td>\n",
       "      <td>2116.16</td>\n",
       "      <td>3</td>\n",
       "      <td>2005</td>\n",
       "      <td>Ships</td>\n",
       "      <td>France</td>\n",
       "    </tr>\n",
       "    <tr>\n",
       "      <th>2822</th>\n",
       "      <td>10414</td>\n",
       "      <td>3079.44</td>\n",
       "      <td>5</td>\n",
       "      <td>2005</td>\n",
       "      <td>Ships</td>\n",
       "      <td>USA</td>\n",
       "    </tr>\n",
       "  </tbody>\n",
       "</table>\n",
       "<p>2823 rows × 6 columns</p>\n",
       "</div>"
      ],
      "text/plain": [
       "      ORDERNUMBER    SALES  MONTH_ID  YEAR_ID  PRODUCTLINE  COUNTRY\n",
       "0           10107  2871.00         2     2003  Motorcycles      USA\n",
       "1           10121  2765.90         5     2003  Motorcycles   France\n",
       "2           10134  3884.34         7     2003  Motorcycles   France\n",
       "3           10145  3746.70         8     2003  Motorcycles      USA\n",
       "4           10159  5205.27        10     2003  Motorcycles      USA\n",
       "...           ...      ...       ...      ...          ...      ...\n",
       "2818        10350  2244.40        12     2004        Ships    Spain\n",
       "2819        10373  3978.51         1     2005        Ships  Finland\n",
       "2820        10386  5417.57         3     2005        Ships    Spain\n",
       "2821        10397  2116.16         3     2005        Ships   France\n",
       "2822        10414  3079.44         5     2005        Ships      USA\n",
       "\n",
       "[2823 rows x 6 columns]"
      ]
     },
     "execution_count": 7,
     "metadata": {},
     "output_type": "execute_result"
    }
   ],
   "source": [
    "import numpy as np\n",
    "import pandas as pd\n",
    "\n",
    "# local:\n",
    "data_location = '../Data/sales_data_sample_excercise.csv'\n",
    "\n",
    "# Uso pandas porque me parece más útil que un array de numpy para esto, en la calse 2 ya vimos como se hace con numpy y respondimos esas preguntas\n",
    "df = pd.read_csv(data_location, delimiter='\\t')\n",
    "df"
   ]
  },
  {
   "cell_type": "markdown",
   "metadata": {},
   "source": [
    "## Ejercicio 2\n",
    "\n",
    "Ahora queremos simular datos que representen las precios de ventas de USA en el mismo período, usando una distribución normal.\n",
    "\n",
    "¿Qué parámetros tiene esa distribución?\n",
    "\n",
    "Generar 100 datos simulados."
   ]
  },
  {
   "cell_type": "code",
   "execution_count": 64,
   "metadata": {},
   "outputs": [
    {
     "name": "stdout",
     "output_type": "stream",
     "text": [
      "Media: 3613.5287151394423\n",
      "Mediana: 3236.06\n",
      "Desvío estándar: 1880.9341465282398\n",
      "Rango: 13541.66\n",
      "Moda: 0    2559.60\n",
      "1    2624.00\n",
      "2    2851.54\n",
      "3    3451.00\n",
      "4    3734.00\n",
      "5    4181.44\n",
      "dtype: float64\n"
     ]
    }
   ],
   "source": [
    "ventas_usa =df[df['COUNTRY'] == 'USA']['SALES']\n",
    "media_usa = ventas_usa.mean()\n",
    "mediana_usa = ventas_usa.median()\n",
    "std_usa = ventas_usa.std()\n",
    "moda_usa = ventas_usa.mode()\n",
    "rango_usa = ventas_usa.max() - ventas_usa.min()\n",
    "\n",
    "print(f\"Media: {media_usa}\")\n",
    "print(f\"Mediana: {mediana_usa}\")\n",
    "print(f\"Desvío estándar: {std_usa}\")\n",
    "print(f\"Rango: {rango_usa}\")\n",
    "print(f\"Moda: {moda_usa}\")"
   ]
  },
  {
   "cell_type": "code",
   "execution_count": 70,
   "metadata": {},
   "outputs": [
    {
     "data": {
      "image/png": "[encoded data removed]",
      "text/plain": [
       "<Figure size 504x360 with 1 Axes>"
      ]
     },
     "metadata": {},
     "output_type": "display_data"
    }
   ],
   "source": [
    "import matplotlib.pyplot as plt\n",
    "import seaborn as sns\n",
    "\n",
    "def distribution_plotter(data, label, bin_width=500):    \n",
    "    sns.set(rc={\"figure.figsize\": (7, 5)})\n",
    "    sns.set_style(\"white\")    \n",
    "    dist = sns.histplot(data, stat = 'count', kde = False, \n",
    "                        line_kws = {'linewidth':5}, \n",
    "                        binwidth = bin_width)    \n",
    "    dist.set_title('Distribucion ' + label + '\\n', fontsize = 16)\n",
    "    \n",
    "distribution_plotter(ventas_usa, 'ventas en USA')"
   ]
  },
  {
   "cell_type": "markdown",
   "metadata": {},
   "source": [
    "La distribución en USA es asimétrica a la derecha, aunque la moda no parece seguir esa distribución (es mayor a la media y la mediana)"
   ]
  },
  {
   "cell_type": "code",
   "execution_count": 84,
   "metadata": {},
   "outputs": [],
   "source": [
    "rng = np.random.default_rng(987)\n",
    "rng_data = rng.normal(loc=media_usa, scale=std_usa, size=100)"
   ]
  },
  {
   "cell_type": "markdown",
   "metadata": {},
   "source": [
    "## Ejercicio 3\n",
    "\n",
    "Agregando a los datos originales los datos simulados en el punto anterior, calcular: \n",
    "* Media\n",
    "* Mediana\n",
    "* Rango\n",
    "* Desvío estandard\n",
    "\n",
    "Y comparar con el conjunto sin datos simulados\n",
    "\n",
    "Ayuda: https://docs.scipy.org/doc/numpy/reference/generated/numpy.concatenate.html"
   ]
  },
  {
   "cell_type": "code",
   "execution_count": 85,
   "metadata": {},
   "outputs": [],
   "source": [
    "ventas_usa_adapt = pd.concat([ventas_usa, pd.Series(rng_data)], ignore_index=True)\n",
    "# Alternativa: np.concatenate((ventas_usa, rng_data))"
   ]
  },
  {
   "cell_type": "code",
   "execution_count": 86,
   "metadata": {},
   "outputs": [
    {
     "name": "stdout",
     "output_type": "stream",
     "text": [
      "Media nueva: 3594.3094482212705. Anterior: 3613.5287151394423\n",
      "Mediana nueva: 3240.2650000000003. Anterior: 3236.06\n",
      "Desvío estándar nuevo: 1893.024356334076. Anterior: 1880.9341465282398\n",
      "Rango nuevo: 15775.61006624587. Anterior: 13541.66\n",
      "Moda nueva: 0    2559.60\n",
      "1    2624.00\n",
      "2    2851.54\n",
      "3    3451.00\n",
      "4    3734.00\n",
      "5    4181.44\n",
      "dtype: float64. Anterior: 0    2559.60\n",
      "1    2624.00\n",
      "2    2851.54\n",
      "3    3451.00\n",
      "4    3734.00\n",
      "5    4181.44\n",
      "dtype: float64\n"
     ]
    }
   ],
   "source": [
    "media_usa_adapt = ventas_usa_adapt.mean()\n",
    "mediana_usa_adapt = ventas_usa_adapt.median()\n",
    "std_usa_adapt = ventas_usa_adapt.std()\n",
    "rango_usa_adapt = ventas_usa_adapt.max() - ventas_usa_adapt.min()\n",
    "moda_usa_adapt = ventas_usa_adapt.mode()\n",
    "\n",
    "print(f\"Media nueva: {media_usa_adapt}. Anterior: {media_usa}\")\n",
    "print(f\"Mediana nueva: {mediana_usa_adapt}. Anterior: {mediana_usa}\")\n",
    "print(f\"Desvío estándar nuevo: {std_usa_adapt}. Anterior: {std_usa}\")\n",
    "print(f\"Rango nuevo: {rango_usa_adapt}. Anterior: {rango_usa}\")\n",
    "print(f\"Moda nueva: {moda_usa_adapt}. Anterior: {moda_usa}\")"
   ]
  },
  {
   "cell_type": "code",
   "execution_count": 87,
   "metadata": {},
   "outputs": [
    {
     "data": {
      "image/png": "[encoded data removed]",
      "text/plain": [
       "<Figure size 504x360 with 1 Axes>"
      ]
     },
     "metadata": {},
     "output_type": "display_data"
    },
    {
     "data": {
      "image/png": "[encoded data removed]",
      "text/plain": [
       "<Figure size 504x360 with 1 Axes>"
      ]
     },
     "metadata": {},
     "output_type": "display_data"
    }
   ],
   "source": [
    "distribution_plotter(ventas_usa_adapt, 'ventas en USA')\n",
    "plt.show()\n",
    "distribution_plotter(ventas_usa, 'ventas en USA')"
   ]
  },
  {
   "cell_type": "markdown",
   "metadata": {},
   "source": [
    "Se ve bastante similar la distribución visualmente y en los parámetros estadísticos, aunque aparecieron algunos datos outliers que se tendrían que sacar en limpieza posterior(principalmente los negativos). Si agrego más datos creados, cada vez tendrá más parecido con una normal y no una asímetrica derecha (right-skewed)."
   ]
  },
  {
   "cell_type": "markdown",
   "metadata": {},
   "source": [
    "## Ejercicio 4\n",
    "\n",
    "Ahora queremos simular datos que representen las precios de ventas de USA en el mismo período, usando una distribución uniforme.\n",
    "\n",
    "¿Qué parámetros tiene esa distribución?\n",
    "\n",
    "Generar 100 datos simulados."
   ]
  },
  {
   "cell_type": "code",
   "execution_count": 77,
   "metadata": {},
   "outputs": [],
   "source": [
    "min_usa = ventas_usa.min()\n",
    "max_usa = ventas_usa.max()"
   ]
  },
  {
   "cell_type": "code",
   "execution_count": 78,
   "metadata": {},
   "outputs": [],
   "source": [
    "rng_data_unif = rng.uniform(low=min_usa, high=max_usa, size=100)"
   ]
  },
  {
   "cell_type": "markdown",
   "metadata": {},
   "source": [
    "## Ejercicio 5\n",
    "\n",
    "Agregando a los datos originales los datos simulados en el punto anterior, calcular: \n",
    "* Media\n",
    "* Mediana\n",
    "* Rango\n",
    "* Desvío estandard\n",
    "\n",
    "Y comparar con el conjunto sin datos simulados."
   ]
  },
  {
   "cell_type": "code",
   "execution_count": 93,
   "metadata": {},
   "outputs": [],
   "source": [
    "ventas_usa_unif = pd.concat([ventas_usa, pd.Series(rng_data_unif)], ignore_index=True)"
   ]
  },
  {
   "cell_type": "code",
   "execution_count": 95,
   "metadata": {},
   "outputs": [
    {
     "name": "stdout",
     "output_type": "stream",
     "text": [
      "Media nueva: 3957.192022649062. Anterior: 3613.5287151394423\n",
      "Mediana nueva: 3359.04. Anterior: 3236.06\n",
      "Desvío estándar nuevo: 2400.899174742119. Anterior: 1880.9341465282398\n",
      "Rango nuevo: 13541.66. Anterior: 13541.66\n",
      "Moda nueva: 0    2559.60\n",
      "1    2624.00\n",
      "2    2851.54\n",
      "3    3451.00\n",
      "4    3734.00\n",
      "5    4181.44\n",
      "dtype: float64. Anterior: 0    2559.60\n",
      "1    2624.00\n",
      "2    2851.54\n",
      "3    3451.00\n",
      "4    3734.00\n",
      "5    4181.44\n",
      "dtype: float64\n"
     ]
    }
   ],
   "source": [
    "media_usa_unif = ventas_usa_unif.mean()\n",
    "mediana_usa_unif = ventas_usa_unif.median()\n",
    "std_usa_unif = ventas_usa_unif.std()\n",
    "rango_usa_unif = ventas_usa_unif.max() - ventas_usa_unif.min()\n",
    "moda_usa_unif = ventas_usa_unif.mode()\n",
    "\n",
    "print(f\"Media nueva: {media_usa_unif}. Anterior: {media_usa}\")\n",
    "print(f\"Mediana nueva: {mediana_usa_unif}. Anterior: {mediana_usa}\")\n",
    "print(f\"Desvío estándar nuevo: {std_usa_unif}. Anterior: {std_usa}\")\n",
    "print(f\"Rango nuevo: {rango_usa_unif}. Anterior: {rango_usa}\")\n",
    "print(f\"Moda nueva: {moda_usa_unif}. Anterior: {moda_usa}\")"
   ]
  },
  {
   "cell_type": "markdown",
   "metadata": {},
   "source": [
    "## Ejercicio 6\n",
    "\n",
    "¿Cuál de las dos imputaciones de datos preservó mejor la distribución original?"
   ]
  },
  {
   "cell_type": "code",
   "execution_count": 104,
   "metadata": {},
   "outputs": [],
   "source": [
    "import seaborn as sns\n",
    "\n",
    "def distribution_plotter(data, label, color = 'steelblue',\n",
    "                         bin_width=200):    \n",
    "    sns.set(rc={\"figure.figsize\": (7, 5)})\n",
    "    sns.set_style(\"white\")    \n",
    "    dist = sns.histplot(data, stat = 'count', kde = False, \n",
    "                        line_kws = {'linewidth':5}, \n",
    "                        binwidth = bin_width,\n",
    "                       color = color)    \n",
    "    dist.set_title('Distribucion ' + label + '\\n', fontsize = 16)\n",
    "    \n",
    "    \n"
   ]
  },
  {
   "cell_type": "code",
   "execution_count": 112,
   "metadata": {},
   "outputs": [
    {
     "data": {
      "image/png": "[encoded data removed]",
      "text/plain": [
       "<Figure size 504x360 with 1 Axes>"
      ]
     },
     "metadata": {},
     "output_type": "display_data"
    },
    {
     "data": {
      "text/plain": [
       "Text(0.5, 1.0, 'ventas en USA con datos normales')"
      ]
     },
     "execution_count": 112,
     "metadata": {},
     "output_type": "execute_result"
    },
    {
     "data": {
      "image/png": "[encoded data removed]",
      "text/plain": [
       "<Figure size 504x360 with 1 Axes>"
      ]
     },
     "metadata": {},
     "output_type": "display_data"
    }
   ],
   "source": [
    "distribution_plotter(ventas_usa_unif, 'ventas en USA con datos uniformes', color='lightgreen')\n",
    "distribution_plotter(ventas_usa, 'ventas en USA', color='midnightblue')\n",
    "plt.title('ventas en USA con datos uniformes')\n",
    "plt.show()\n",
    "distribution_plotter(ventas_usa_adapt, 'ventas en USA con datos normales')\n",
    "distribution_plotter(ventas_usa, 'ventas en USA', color='midnightblue')\n",
    "plt.title('ventas en USA con datos normales')\n"
   ]
  },
  {
   "cell_type": "markdown",
   "metadata": {},
   "source": [
    "El agregado uniforme mantuvo mejor la distribución original, y agregar más datos no modificaría esto significativamente, pero creo que habría que analizar un poco mejor los outliers, ya que se ven un poco extraños. Esto podría mejorarse cambiando el máximo de los datos generados con distribución normal. "
   ]
  }
 ],
 "metadata": {
  "kernelspec": {
   "display_name": "Python 3 (ipykernel)",
   "language": "python",
   "name": "python3"
  },
  "language_info": {
   "codemirror_mode": {
    "name": "ipython",
    "version": 3
   },
   "file_extension": ".py",
   "mimetype": "text/x-python",
   "name": "python",
   "nbconvert_exporter": "python",
   "pygments_lexer": "ipython3",
   "version": "3.9.7"
  }
 },
 "nbformat": 4,
 "nbformat_minor": 4
}
